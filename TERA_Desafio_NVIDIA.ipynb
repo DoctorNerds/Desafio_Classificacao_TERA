{
  "nbformat": 4,
  "nbformat_minor": 0,
  "metadata": {
    "colab": {
      "provenance": [],
      "collapsed_sections": [
        "om-mP7dzA6dS",
        "u5Gri5Ytiec5",
        "2og95-y_bT3P",
        "DhYCCa38e7JR",
        "TECxx2WSif_6",
        "uSa1sAAdeU-h",
        "UJug9n7CgqJR",
        "uwQhYlWsOtTK",
        "T-PNwS_teORT",
        "DjX1mMKNf1wi",
        "Jj70ex6SehTZ",
        "u5pml1r0tvCB",
        "bJu6FY6HwbNw",
        "fNQrNt70M0RP",
        "jN6eFr7fNjQY",
        "XLZ23fvxOU_n",
        "5CTqQNM0xBD3",
        "9HL_Q-faA_aq",
        "NMP-O8fnBR5y",
        "2WDE9im2BUhC",
        "2DqwSZV7BaM6",
        "3OmRAhL8EzjO",
        "rTbEyQFlFmha",
        "aVYMjY4THXJi",
        "MjFddyp3Hai4",
        "nyufYgCSIi3i",
        "ZFj3iadiIcDz",
        "r9TTdCTzJVPS",
        "YdklMrIYKNeO",
        "2pYcKVss9RUC",
        "7hTv4RXJGK3M",
        "ZehUXQ_5Sqz-",
        "RCGlYyE_TBde",
        "3dthMRqYWBir",
        "rNch9ktLWm_j",
        "qSC-0n8dX6fE",
        "2Kf7lsAcFZt9",
        "hmGNR95IGtO8",
        "1r0N_JP9KM1T",
        "dtY-T-UzOgwL",
        "yeMvGTmsOC5r",
        "BrFmcw06eyPW",
        "ULWXdlq6Ma3K",
        "TfaZB9Iy3p7c",
        "tyqyWfwDOMuh",
        "rYwLIYFLr9HQ"
      ]
    },
    "kernelspec": {
      "name": "python3",
      "display_name": "Python 3"
    },
    "language_info": {
      "name": "python"
    },
    "accelerator": "GPU",
    "gpuClass": "standard"
  },
  "cells": [
    {
      "cell_type": "markdown",
      "source": [
        "# Desafio de Classificação"
      ],
      "metadata": {
        "id": "fT3vjBTnA2tc"
      }
    },
    {
      "cell_type": "markdown",
      "source": [
        "## Sobre o problema"
      ],
      "metadata": {
        "id": "om-mP7dzA6dS"
      }
    },
    {
      "cell_type": "markdown",
      "source": [
        "### O que significa CCF?"
      ],
      "metadata": {
        "id": "u5Gri5Ytiec5"
      }
    },
    {
      "cell_type": "markdown",
      "source": [
        "CCF (Credit Card Fraud) é a razão da perda de bilhões de dólares por ano, para as companhias financeiras e para os consumidores.\n",
        "O problema de detecção de fraudes é um problema complexo de machine learning onde diversos pesquisadores testam novos modelos e arquiteturas de solução para aprimorar a detecção. Este problema gera um prejuízo de bilhões de dólares anualmente nas empresas do setor financeiro."
      ],
      "metadata": {
        "id": "Af3E268QsXeE"
      }
    },
    {
      "cell_type": "markdown",
      "source": [
        "### Tipos de fraude"
      ],
      "metadata": {
        "id": "2og95-y_bT3P"
      }
    },
    {
      "cell_type": "markdown",
      "source": [
        "Existem alguns tipos de fraudes que podemos classificar, segue alguns exemplos:"
      ],
      "metadata": {
        "id": "kGtXNJ71vyH4"
      }
    },
    {
      "cell_type": "markdown",
      "source": [
        "[BANKRUPTCY] : Não pode ser detectada facilmente, a pessoa faz transações mesmo sabendo que não pode pagar com aquele cartão.\n",
        "\n",
        "[THEAFT] : A pessoa usa o cartão de crédito de outra pessoa ilegalmente e faz o máximo de transações até que a pessoa bloqueie o cartão. Possíveis identificadores para este tipo de fraude: transações altas (limite do cartão ajuda a identificar) ou muitas transações em um curto período de tempo.\n",
        "\n",
        "[APPLICATION] : Quando alguém solicita um cartão de crédito com dados falsos. Uma maneira de identificar este tipo de fraude é verificar se 2 ou mais aplicativos contém o mesmo ID.\n",
        "\n",
        "[BEHAVIORAL] : Transações online apenas com os dados de outra pessoa."
      ],
      "metadata": {
        "id": "Wb-e1gOubWOa"
      }
    },
    {
      "cell_type": "markdown",
      "source": [
        "### Padrões comuns de fraude"
      ],
      "metadata": {
        "id": "DhYCCa38e7JR"
      }
    },
    {
      "cell_type": "markdown",
      "source": [
        "As fraudes apresentam um certo padrão, que inclusive é utilizado pelos desenvolvedores do algoritmo para criar regras que ajudem na classificação. Segue alguns exemplos de padrões comuns em fraudes:"
      ],
      "metadata": {
        "id": "s3Q9mbYHv-qA"
      }
    },
    {
      "cell_type": "markdown",
      "source": [
        "*  [DINHEIRO] : Valores muito altos ou muito baixos de transações.\n",
        "*  [TRANSAÇÕES REMOTAS] : ocorrem em um local muito distante do local habitual do cliente comercial.\n",
        "*  [FREQUÊNCIA]: várias transações em um curto espaço de tempo."
      ],
      "metadata": {
        "id": "qbpMAJnRe7AC"
      }
    },
    {
      "cell_type": "markdown",
      "source": [
        "### Tipos de infratores"
      ],
      "metadata": {
        "id": "TECxx2WSif_6"
      }
    },
    {
      "cell_type": "markdown",
      "source": [
        "Entender qual é o tipo do infrator também irá ajudar a descobrir o tipo de fraude que ele pode cometer. Veja dois exemplos comuns de infratores:\n"
      ],
      "metadata": {
        "id": "BGRNDiVswRxY"
      }
    },
    {
      "cell_type": "markdown",
      "source": [
        "* [PESSOA COMUM] - Cometem fraudes quando passam por:\n",
        "  * Tentação repentina\n",
        "  * Dificuldades financeiras.\n",
        "    * Dados que podem ajudar a identificar este tipo de fraudador: renda anual, saldo bancário médio, número de saques e fatura média mensal do cartão.\n",
        "\n",
        "* [CRIMINOSOS] - Grupo mais comum e perigoso que devemos detectar. Através deles que os maiores prejuízos acontecem para as empresas e pessoas envolvidas na fraude. Costumam agir de forma orquestrada e disfarçam a sua identidade, o que torna sua detecção mais difícil.\n"
      ],
      "metadata": {
        "id": "kZrra0MPiunK"
      }
    },
    {
      "cell_type": "markdown",
      "source": [
        "### Problemas"
      ],
      "metadata": {
        "id": "uSa1sAAdeU-h"
      }
    },
    {
      "cell_type": "markdown",
      "source": [
        "Para desenvolver uma solução de machine learning para identificar transações fraudulentas, existem alguns problemas que devem ser considerados durante a construção do algoritmo:"
      ],
      "metadata": {
        "id": "PEIeNUOlwgcY"
      }
    },
    {
      "cell_type": "markdown",
      "source": [
        "*   Desequilíbrio de classes, a quantidade de operações consideradas como fraude é muito menos que o número total de transações normais.\n",
        "*   O feedback dos investigadores não é fornecido imediatamente para o modelo.\n",
        "*   O padrão dos consumidores muda durante o tempo, o que dificulta o reconhecimento dos padrões.\n",
        "*   Os fraudadores também mudam o padrão das fraudes conforme os padrões são descobertos pelos sistemas, dificultado o modelo de encontrá-los e fazendo com que ele tenha que ser constantemente atualizado.\n",
        "*   Os dados de treinamento rotulados podem ser enviesados, já que seguirão um padrão de fraude, isso pode ser muito prejudicial no momento de encontrar novas fraudes e novos padrões.\n",
        "*   Latência de dados, já que o processo dos investigadores não é feito para todos os dados e sim, para um número de transações possíveis de se verificar devido aos limites do processo humano.\n"
      ],
      "metadata": {
        "id": "X-gHznA2ebcz"
      }
    },
    {
      "cell_type": "markdown",
      "source": [
        "Outro problema que pode acontecer é a falta de dados. Não tem dados suficientes? A criação de dados sintéticos para treinar um modelo pode ser uma solução. Existem artigos e estudos que avaliam e propõem esta metodologia para a geração desses dados."
      ],
      "metadata": {
        "id": "lwbXkFqtkIHi"
      }
    },
    {
      "cell_type": "markdown",
      "source": [
        "### Perguntas a serem feitas"
      ],
      "metadata": {
        "id": "UJug9n7CgqJR"
      }
    },
    {
      "cell_type": "markdown",
      "source": [
        "Devemos fazer algumas perguntas antes de pensarmos na solução, segue alguns exemplos:"
      ],
      "metadata": {
        "id": "7T7WpYI1xDe5"
      }
    },
    {
      "cell_type": "markdown",
      "source": [
        "* Quem são os criminosos que o sistema de detecção de fraude deve ser projeto para descobrir?\n",
        "* Quais dados estão disponíveis para serem utilizados na solução?\n",
        "* Quais são as etapas e o fluxograma da solução completa?\n",
        "* Em qual etapa da solução o algoritmo que eu vou projetar se encontra?\n",
        "* Quais são as medições de desempenho apropriadas para cada etapa da solução?\n",
        "* Quais técnicas são usadas para detecção ou quais combinações são recomendadas?\n",
        "* Quais as fraquezas e as vantagens de cada técnica para cada etapa da solução?\n",
        "\n",
        "É muito importante fazermos o maior número de perguntas possíveis para entendermos melhor como a nossa solução deve ser projetada."
      ],
      "metadata": {
        "id": "j4X-dbZLgs-5"
      }
    },
    {
      "cell_type": "markdown",
      "source": [
        "### Artigos sugeridos"
      ],
      "metadata": {
        "id": "uwQhYlWsOtTK"
      }
    },
    {
      "cell_type": "markdown",
      "source": [
        "* A Comprehensive Survey of\n",
        "Data Mining-based Fraud Detection Research\n",
        "  * CLIFTON PHUA1*, VINCENT LEE1\n",
        ", KATE SMITH1\n",
        " & ROSS GAYLER2\n",
        "  * 1\n",
        "School of Business Systems, Faculty of Information Technology, Monash University, Clayton campus, \n",
        "Wellington Road, Clayton, Victoria 3800, Australia (*author for correspondence, tel.: +61-3-99052065) \n",
        "{e-mail: clifton.phua, vincent.lee, kate.smith@infotech.monash.edu.au};\n",
        "2\n",
        "Baycorp Advantage, Level 12, 628 Bourke Street, Melbourne, VIC 3000, Australia \n",
        "{e-mail: r.gayler@mbox.com.au}\n",
        "\n",
        "* Credit Card Fraud Detection: a Realistic Modeling\n",
        "and a Novel Learning Strategy\n",
        "  * Andrea Dal Pozzolo, Giacomo Boracchi, Olivier Caelen, Cesare Alippi, and Gianluca Bontempi\n",
        "\n",
        "* Credit Card Fraud Detection using Machine \n",
        "Learning: A Systematic Literature Review\n",
        "  * Harish Paruchuri\n",
        "Senior AI Engineer, Department of Information Technology, Anthem, Inc., USA\n",
        "  * Corresponding Contact:\n",
        "Email: harishparuchuri9999@gmail.com"
      ],
      "metadata": {
        "id": "tveE7cywOzD5"
      }
    },
    {
      "cell_type": "markdown",
      "source": [
        "## Sobre a solução"
      ],
      "metadata": {
        "id": "T-PNwS_teORT"
      }
    },
    {
      "cell_type": "markdown",
      "source": [
        "### Algoritmos utilizados"
      ],
      "metadata": {
        "id": "DjX1mMKNf1wi"
      }
    },
    {
      "cell_type": "markdown",
      "source": [
        "Alguns dos algoritmos mencionados nos artigos que são utilizados para encontrar a solução do problema:"
      ],
      "metadata": {
        "id": "MOkm5xljxQmx"
      }
    },
    {
      "cell_type": "markdown",
      "source": [
        "*   Redes Neurais\n",
        "*   Árvore de Decisão\n",
        "*   Máquina de Vetores de Suporte\n",
        "*   Regressão Logística\n",
        "*   Algoritmo Genético\n",
        "*   Random Forest"
      ],
      "metadata": {
        "id": "PkBWciSYf4CB"
      }
    },
    {
      "cell_type": "markdown",
      "source": [
        "### Principais desafios a serem enfrentados em um FDS do mundo real"
      ],
      "metadata": {
        "id": "Jj70ex6SehTZ"
      }
    },
    {
      "cell_type": "markdown",
      "source": [
        "É muito importante conhecer como a sua solução será implementada no mundo real e, desta forma, entender os desafios e problemas que podem comprometer a implementação, como podemos ver nestes exemplos:"
      ],
      "metadata": {
        "id": "bB39EhpIxgw5"
      }
    },
    {
      "cell_type": "markdown",
      "source": [
        "Desequilíbrio de classes (fraudes costumam ser menos de 1% das transações globais). As duas principais abordagens para lidar com o desequilíbrio de classe são: \n",
        "\n",
        "1) métodos de amostragem: são usados para balancear \n",
        "a distribuição de classe no conjunto de treinamento antes de executar um algoritmo de aprendizado tradicional.\n",
        "\n",
        "2) métodos baseados em custos: modificam o algoritmo de aprendizado para atribuir um custo de erro de classificação maior à classe minoritária."
      ],
      "metadata": {
        "id": "TQTOw_6rekYK"
      }
    },
    {
      "cell_type": "markdown",
      "source": [
        "Desvio de conceito. Existem dois fatores principais que introduzem mudanças/evoluções no fluxo de transações com cartão de crédito: \n",
        "\n",
        "1) As transações genuínas evoluem porque os titulares de cartão geralmente mudam seus comportamentos de gastos ao longo tempo (por exemplo, durante as férias, compram mais e de forma diferente do resto do ano).\n",
        "\n",
        "2) As fraudes mudam com o tempo, desde que novas atividades fraudulentas são perpetradas. \n",
        "\n",
        "Abordagens de adaptação à deriva de conceito podem ser divididas em duas \n",
        "famílias: adaptação ativa (atualiza sempre que um novo padrão é encontrado) e adaptação passiva (atualiza durante ciclos pré-definidos)."
      ],
      "metadata": {
        "id": "6plf9jFJenTr"
      }
    },
    {
      "cell_type": "markdown",
      "source": [
        "Interação Alerta-Feedback e Viés de Seleção de Amostras:  \n",
        "\n",
        "Em um mundo real FDS a única informação supervisionada recente são os feedbacks, fornecidos pelos investigadores, enquanto a grande maioria das transações autorizadas todos os dias não recebem um rótulo em um curto espaço de tempo. \n",
        "\n",
        "Feedbacks contêm transações que são caracterizados por uma alta probabilidade de serem fraudes, e a proporção de fraudes nos feedbacks é diferente em relação a proporção de fraudes que ocorrem todos os dias. Assim, feedbacks representam uma espécie de conjunto de treinamento tendencioso: esse problema evoca o que é conhecido na literatura como Viés de Seleção da Amostra."
      ],
      "metadata": {
        "id": "FlXKTnXmenMC"
      }
    },
    {
      "cell_type": "markdown",
      "source": [
        "### Etapas"
      ],
      "metadata": {
        "id": "u5pml1r0tvCB"
      }
    },
    {
      "cell_type": "markdown",
      "source": [
        "O FDS (Fraud Detection System) pode ser divido em etapas e é muito importante conhecê-las pois a partir deste ponto podemos entender em qual parte da solução completa o nosso algoritmo vai se encontrar e, desta forma, decidir o melhor modelo e parâmetros de avaliação a serem utilizados."
      ],
      "metadata": {
        "id": "AkffGHpMydB_"
      }
    },
    {
      "cell_type": "markdown",
      "source": [
        "1. Terminal\n",
        "\n",
        "Verificação de segurança convencional através dos dados fornecidos no pagamento. Exemplo de dados: PIN, número de tentativas, estado do cartão, saldo disponível e limite de gastos.\n",
        "\n",
        "2. Regras de bloqueio\n",
        "\n",
        "Ainda no momento da compra, para bloquear apenas solicitações de transação que são claramente classificadas como fraude. Esta fase tem algumas características como: \n",
        "    \n",
        "*   Ser rápida, as transações não podem passar muito tempo sendo analisadas até a aprovação na máquina, ou no sistema de compra, já que isso poderia gerar um grande problema de insatisfação dos clientes.\n",
        "*   Ser muito precisa, apenas transações claramente classificadas como fraude devem ser bloqueadas, caso contrário, se tiver um número alto de falsos positivos, isso poderia gerar um problema com excesso de transações bloqueadas e clientes que poderiam se sentir prejudicados e/ou constrangidos nesta situação, além de insatisfeitos.  \n",
        "Mesmo as transações que passam dessa fase e são autorizadas, continuam no processo de detecção de fraude.\n",
        "\n",
        "\n",
        "\n",
        "\n",
        "Após passar pela etapa das regras de bloqueio, a detecção continua agora utilizando mais dados como:\n",
        "- Comparação entre compra atual e anteriores.\n",
        "- Perfil de consumo do titular do cartão.\n",
        "- Informações financeiras, como despesa média, do titular do cartão.\n",
        "- Número de transações feitas no dia.\n",
        "- Local (atual e anteriores) da compra.\n",
        "- E muitos outros, depende do modelo e do sistema de aplicação.\n",
        "\n",
        "\n",
        "3. Regras de pontuação\n",
        "\n",
        "Atribuem uma pontuação para cada transação autorizada. Quanto maior a pontuação, maior a chance de ser classificada como fraude. Essas regras são manualmente projetadas pelos investigadores (etapa final do ciclo de processo), como por exemplo:\n",
        "```\n",
        "SE a transação anterior foi feita em um continente diferente\n",
        "E se passou menos de uma hora até a transação atual\n",
        "ENTÃO pontuação de fraude é igual a 0,95\n",
        "```\n",
        "Essas regras detectam apenas fraudes que já foram descobertas pelos investigadores.\n",
        "\n",
        "4. DDM - Data Driven Model\n",
        "\n",
        "Nesta fase, o modelo tem uma quantidade de informação muito maior para tomar a decisão sobre classificar uma transação como fraude ou não. Através destes dados é estimado a probabilidade de cada vetor de características de uma transação ser classificado como uma fraude. \n",
        "\n",
        "Espera-se que este modelo baseado em dados detecte novos padrões fraudulentos. Transações associadas com vetores que receberam alta pontuação de fraude (probabilidade de fraude) geram um alerta. Uma amostra, precisa, destas transações classificadas como fraude são enviadas para um investigador, que deverá entrar em contato com a pessoa para verificar se a transação foi ou não uma fraude.\n",
        "\n",
        "5. Investigadores\n",
        "\n",
        "É a única parte da solução que composta majoritariamente por pessoas, e não computadores, atuando. Os investigadores recebem um número de transações consideradas como fraude e verificam essa informação junto ao titular da conta. Por ser humano, este processo tem um limite de ações por dia. Todos os feedbacks, resposta para cada caso verificado, é utilizado como informação para melhorar o modelo existente. O FDS eficaz deve fornecer aos investigadores um pequeno número de alertas confiáveis, portanto a métrica de avaliação de precisão é importante aqui. \n",
        "\n",
        "Alguns estudos comprovam que ter mais feedbacks garantem um desempenho superior na detecção de fraude. Portanto essa análise pode ser considerada como uma diretriz para empresas decidirem se os custos de contratação de mais investigadores é compensado pela melhoria esperada no desempenho da detecção de fraudes.\n",
        "\n",
        " "
      ],
      "metadata": {
        "id": "sq7vV-a_txgg"
      }
    },
    {
      "cell_type": "markdown",
      "source": [
        "### Informações/Dados importantes\n",
        "\n"
      ],
      "metadata": {
        "id": "bJu6FY6HwbNw"
      }
    },
    {
      "cell_type": "markdown",
      "source": [
        "Alguns tipos de dados que podem ser importantes para melhorar o seu modelo de classificação e ajudar a encontrar novos padrões de fraude:"
      ],
      "metadata": {
        "id": "hujiyZcw0j8O"
      }
    },
    {
      "cell_type": "markdown",
      "source": [
        "*   [PERFIL DO CONSUMIDOR] : Por exemplo, alguém que já estava pesquisando para comprar um carro tem uma tendência maior a realizar essa compra do que alguém que nunca pesquisou preços e modelos de carros.\n",
        "* [ID DA TRANSAÇÃO]\n",
        "* [ID DO CARTÃO] \n",
        "* [QUANTIA DA TRANSAÇÃO]\n",
        "* [HISTÓRICO DE TRANSAÇÕES E PAGAMENTOS]\n",
        "* [HORA DA TRANSAÇÃO]\n",
        "* [LOCALIDADE DA TRANSAÇÃO]\n",
        "* [TIPO DE TRANSAÇÃO]\n",
        "* [MEIO ONDE A TRANSAÇÃO FOI FEITA] : Por exemplo, se a transação foi feita online, em qual tipo de serviço ou até mesmo se foi uma transação através de mecanismos de pagamento presenciais.\n",
        "\n"
      ],
      "metadata": {
        "id": "OijeIopk0imB"
      }
    },
    {
      "cell_type": "markdown",
      "source": [
        "### Features Importantes"
      ],
      "metadata": {
        "id": "fNQrNt70M0RP"
      }
    },
    {
      "cell_type": "markdown",
      "source": [
        "Qualquer solicitação de transação é descrita por algumas variáveis, como o ID do comerciante, ID do titular do cartão, valor da compra, data e tempo. \n",
        "\n",
        "Todas as solicitações de transações que passam pelas regras de bloqueio são inseridas em um banco de dados contendo todas as transações autorizadas recentes, onde o processo de aumento de recursos é iniciado. \n",
        "\n",
        "Exemplos de características agregadas são o gasto médio do cliente a cada semana/mês, o número médio de transações por dia ou na mesma loja, o valor médio da transação, a localização das últimas compras, informações adicionais e características podem ser extraídas das redes sociais que conectam os titulares de cartão com comerciantes/lojas. Desta forma, permite o modelo alertar transações que não são suspeitas por si mesmas, mas podem ser incomuns em comparação com os hábitos de compra do titular do cartão."
      ],
      "metadata": {
        "id": "kNiPZQ18M_ZY"
      }
    },
    {
      "cell_type": "markdown",
      "source": [
        "### Informação Supervisionada "
      ],
      "metadata": {
        "id": "jN6eFr7fNjQY"
      }
    },
    {
      "cell_type": "markdown",
      "source": [
        "Podemos citar dois tipos de informação supervisionada: feedbacks de investigadores e transações contestadas e não contestadas. \n",
        "\n",
        "Os feedbacks dos investigadores são as mais recentes informações supervisionadas disponibilizadas ao FDS, mas representam apenas uma pequena fração das transações processadas todos os dias. Transações rotuladas adicionais são fornecidas pelos titulares de cartão que contestam diretamente transações não autorizadas também. Depois que um certo número de dias se passou sem contestação do titular do cartão, todas as transações não declaradas são consideradas genuínas por padrão, e inserido no conjunto de treinamento do DDM. \n"
      ],
      "metadata": {
        "id": "5-ogdkuENnho"
      }
    },
    {
      "cell_type": "markdown",
      "source": [
        "### Atualização do Sistema "
      ],
      "metadata": {
        "id": "XLZ23fvxOU_n"
      }
    },
    {
      "cell_type": "markdown",
      "source": [
        "O comportamento de gastos dos clientes evolui e os fraudadores projetam continuamente novos ataques, portanto, suas estratégias também mudam \n",
        "ao longo do tempo. Os sistemas orientados por especialistas são atualizados regularmente por investigadores que adicionam (na fase do bloqueio de transação ou pontuação) regras para neutralizar o início de novas atividades fraudulentas e remover aquelas regras passíveis de muitos alertas falsos. Embora os investigadores forneçam constantemente feedbacks durante o dia, o classificador é geralmente atualizado/retreinado apenas uma vez, principalmente no final do dia, quando um número suficiente de feedbacks estiver disponível. "
      ],
      "metadata": {
        "id": "BTqzZXG0OWOm"
      }
    },
    {
      "cell_type": "markdown",
      "source": [
        "### Proposta de solução"
      ],
      "metadata": {
        "id": "5CTqQNM0xBD3"
      }
    },
    {
      "cell_type": "markdown",
      "source": [
        "Vamos considerar que este modelo está presente na etapa da regras de bloqueio da solução completa, já que nossa base de dados, embora extensa, contenha poucas informações sobre a transação e as pessoas envolvidas. \n",
        "\n",
        "Partindo desta premissa, vamos buscar um modelo que seja rápido e com alta precisão, pontos já justificados na especificação desta etapa."
      ],
      "metadata": {
        "id": "shL79Z1LxDBI"
      }
    },
    {
      "cell_type": "markdown",
      "source": [
        "## Solução em Python"
      ],
      "metadata": {
        "id": "9HL_Q-faA_aq"
      }
    },
    {
      "cell_type": "markdown",
      "source": [
        "### Importando Bibliotecas"
      ],
      "metadata": {
        "id": "NMP-O8fnBR5y"
      }
    },
    {
      "cell_type": "code",
      "source": [
        "# Desativando a exibição de avisos durante a execução do programa.\n",
        "import warnings\n",
        "warnings.filterwarnings('ignore')\n",
        "\n",
        "# Bibliotecas para tratamento de dados\n",
        "import pandas as pd\n",
        "import numpy as np\n",
        "\n",
        "# Bibliotecas para visualização\n",
        "import matplotlib.pyplot as plt\n",
        "import seaborn as sns\n",
        "\n",
        "# Bibliotecas para treinamento e cálculo de métricas\n",
        "from sklearn.preprocessing import Normalizer, LabelEncoder\n",
        "from sklearn.model_selection import train_test_split as train_test_split\n",
        "from sklearn.ensemble import RandomForestClassifier as RandomForestClassifier\n",
        "from sklearn.metrics import accuracy_score as cpu_accuracy_score\n",
        "from sklearn.metrics import precision_score, recall_score\n",
        "from sklearn.metrics import confusion_matrix as cpu_confusion_matrix\n",
        "from sklearn.metrics import ConfusionMatrixDisplay\n",
        "from sklearn.linear_model import LogisticRegression as cpu_LogisticRegression\n",
        "\n",
        "\n",
        "# Algoritmo XGBoost\n",
        "from xgboost import XGBClassifier\n",
        "\n",
        "# Biblioteca para calcular o tempo de execução dos blocos\n",
        "import time"
      ],
      "metadata": {
        "id": "oVCUhS7yA5nU"
      },
      "execution_count": null,
      "outputs": []
    },
    {
      "cell_type": "code",
      "source": [
        "# Configura o Pandas para formatar valores de ponto flutuante em um formato específico durante a exibição de um DataFrame.\n",
        "# Evita que o pandas apresente valores em notação científica\n",
        "pd.set_option('display.float_format', lambda x: '%.5f' % x)"
      ],
      "metadata": {
        "id": "0s75vm-ABl8S"
      },
      "execution_count": null,
      "outputs": []
    },
    {
      "cell_type": "markdown",
      "source": [
        "### Leitura do dataset"
      ],
      "metadata": {
        "id": "2WDE9im2BUhC"
      }
    },
    {
      "cell_type": "code",
      "source": [
        "# Especifica ao pandas para exibir todas as colunas de um DataFrame, independentemente do número de colunas que ele tenha\n",
        "pd.set_option('display.max_columns', None)"
      ],
      "metadata": {
        "id": "7pt0J_VGHtOj"
      },
      "execution_count": null,
      "outputs": []
    },
    {
      "cell_type": "code",
      "source": [
        "# Bloco para fazer o carregamento local do arquivo .csv\n",
        "# Utilizar apenas se necessário\n",
        "from google.colab import files\n",
        "uploaded = files.upload()"
      ],
      "metadata": {
        "colab": {
          "base_uri": "https://localhost:8080/",
          "height": 38
        },
        "id": "FHUSxQ5t9V-G",
        "outputId": "bee63047-25b7-4e9e-fa95-7ce223f4e2c8"
      },
      "execution_count": null,
      "outputs": [
        {
          "output_type": "display_data",
          "data": {
            "text/plain": [
              "<IPython.core.display.HTML object>"
            ],
            "text/html": [
              "\n",
              "     <input type=\"file\" id=\"files-2167330c-4efa-4e50-84ee-24eb02f6fef1\" name=\"files[]\" multiple disabled\n",
              "        style=\"border:none\" />\n",
              "     <output id=\"result-2167330c-4efa-4e50-84ee-24eb02f6fef1\">\n",
              "      Upload widget is only available when the cell has been executed in the\n",
              "      current browser session. Please rerun this cell to enable.\n",
              "      </output>\n",
              "      <script>// Copyright 2017 Google LLC\n",
              "//\n",
              "// Licensed under the Apache License, Version 2.0 (the \"License\");\n",
              "// you may not use this file except in compliance with the License.\n",
              "// You may obtain a copy of the License at\n",
              "//\n",
              "//      http://www.apache.org/licenses/LICENSE-2.0\n",
              "//\n",
              "// Unless required by applicable law or agreed to in writing, software\n",
              "// distributed under the License is distributed on an \"AS IS\" BASIS,\n",
              "// WITHOUT WARRANTIES OR CONDITIONS OF ANY KIND, either express or implied.\n",
              "// See the License for the specific language governing permissions and\n",
              "// limitations under the License.\n",
              "\n",
              "/**\n",
              " * @fileoverview Helpers for google.colab Python module.\n",
              " */\n",
              "(function(scope) {\n",
              "function span(text, styleAttributes = {}) {\n",
              "  const element = document.createElement('span');\n",
              "  element.textContent = text;\n",
              "  for (const key of Object.keys(styleAttributes)) {\n",
              "    element.style[key] = styleAttributes[key];\n",
              "  }\n",
              "  return element;\n",
              "}\n",
              "\n",
              "// Max number of bytes which will be uploaded at a time.\n",
              "const MAX_PAYLOAD_SIZE = 100 * 1024;\n",
              "\n",
              "function _uploadFiles(inputId, outputId) {\n",
              "  const steps = uploadFilesStep(inputId, outputId);\n",
              "  const outputElement = document.getElementById(outputId);\n",
              "  // Cache steps on the outputElement to make it available for the next call\n",
              "  // to uploadFilesContinue from Python.\n",
              "  outputElement.steps = steps;\n",
              "\n",
              "  return _uploadFilesContinue(outputId);\n",
              "}\n",
              "\n",
              "// This is roughly an async generator (not supported in the browser yet),\n",
              "// where there are multiple asynchronous steps and the Python side is going\n",
              "// to poll for completion of each step.\n",
              "// This uses a Promise to block the python side on completion of each step,\n",
              "// then passes the result of the previous step as the input to the next step.\n",
              "function _uploadFilesContinue(outputId) {\n",
              "  const outputElement = document.getElementById(outputId);\n",
              "  const steps = outputElement.steps;\n",
              "\n",
              "  const next = steps.next(outputElement.lastPromiseValue);\n",
              "  return Promise.resolve(next.value.promise).then((value) => {\n",
              "    // Cache the last promise value to make it available to the next\n",
              "    // step of the generator.\n",
              "    outputElement.lastPromiseValue = value;\n",
              "    return next.value.response;\n",
              "  });\n",
              "}\n",
              "\n",
              "/**\n",
              " * Generator function which is called between each async step of the upload\n",
              " * process.\n",
              " * @param {string} inputId Element ID of the input file picker element.\n",
              " * @param {string} outputId Element ID of the output display.\n",
              " * @return {!Iterable<!Object>} Iterable of next steps.\n",
              " */\n",
              "function* uploadFilesStep(inputId, outputId) {\n",
              "  const inputElement = document.getElementById(inputId);\n",
              "  inputElement.disabled = false;\n",
              "\n",
              "  const outputElement = document.getElementById(outputId);\n",
              "  outputElement.innerHTML = '';\n",
              "\n",
              "  const pickedPromise = new Promise((resolve) => {\n",
              "    inputElement.addEventListener('change', (e) => {\n",
              "      resolve(e.target.files);\n",
              "    });\n",
              "  });\n",
              "\n",
              "  const cancel = document.createElement('button');\n",
              "  inputElement.parentElement.appendChild(cancel);\n",
              "  cancel.textContent = 'Cancel upload';\n",
              "  const cancelPromise = new Promise((resolve) => {\n",
              "    cancel.onclick = () => {\n",
              "      resolve(null);\n",
              "    };\n",
              "  });\n",
              "\n",
              "  // Wait for the user to pick the files.\n",
              "  const files = yield {\n",
              "    promise: Promise.race([pickedPromise, cancelPromise]),\n",
              "    response: {\n",
              "      action: 'starting',\n",
              "    }\n",
              "  };\n",
              "\n",
              "  cancel.remove();\n",
              "\n",
              "  // Disable the input element since further picks are not allowed.\n",
              "  inputElement.disabled = true;\n",
              "\n",
              "  if (!files) {\n",
              "    return {\n",
              "      response: {\n",
              "        action: 'complete',\n",
              "      }\n",
              "    };\n",
              "  }\n",
              "\n",
              "  for (const file of files) {\n",
              "    const li = document.createElement('li');\n",
              "    li.append(span(file.name, {fontWeight: 'bold'}));\n",
              "    li.append(span(\n",
              "        `(${file.type || 'n/a'}) - ${file.size} bytes, ` +\n",
              "        `last modified: ${\n",
              "            file.lastModifiedDate ? file.lastModifiedDate.toLocaleDateString() :\n",
              "                                    'n/a'} - `));\n",
              "    const percent = span('0% done');\n",
              "    li.appendChild(percent);\n",
              "\n",
              "    outputElement.appendChild(li);\n",
              "\n",
              "    const fileDataPromise = new Promise((resolve) => {\n",
              "      const reader = new FileReader();\n",
              "      reader.onload = (e) => {\n",
              "        resolve(e.target.result);\n",
              "      };\n",
              "      reader.readAsArrayBuffer(file);\n",
              "    });\n",
              "    // Wait for the data to be ready.\n",
              "    let fileData = yield {\n",
              "      promise: fileDataPromise,\n",
              "      response: {\n",
              "        action: 'continue',\n",
              "      }\n",
              "    };\n",
              "\n",
              "    // Use a chunked sending to avoid message size limits. See b/62115660.\n",
              "    let position = 0;\n",
              "    do {\n",
              "      const length = Math.min(fileData.byteLength - position, MAX_PAYLOAD_SIZE);\n",
              "      const chunk = new Uint8Array(fileData, position, length);\n",
              "      position += length;\n",
              "\n",
              "      const base64 = btoa(String.fromCharCode.apply(null, chunk));\n",
              "      yield {\n",
              "        response: {\n",
              "          action: 'append',\n",
              "          file: file.name,\n",
              "          data: base64,\n",
              "        },\n",
              "      };\n",
              "\n",
              "      let percentDone = fileData.byteLength === 0 ?\n",
              "          100 :\n",
              "          Math.round((position / fileData.byteLength) * 100);\n",
              "      percent.textContent = `${percentDone}% done`;\n",
              "\n",
              "    } while (position < fileData.byteLength);\n",
              "  }\n",
              "\n",
              "  // All done.\n",
              "  yield {\n",
              "    response: {\n",
              "      action: 'complete',\n",
              "    }\n",
              "  };\n",
              "}\n",
              "\n",
              "scope.google = scope.google || {};\n",
              "scope.google.colab = scope.google.colab || {};\n",
              "scope.google.colab._files = {\n",
              "  _uploadFiles,\n",
              "  _uploadFilesContinue,\n",
              "};\n",
              "})(self);\n",
              "</script> "
            ]
          },
          "metadata": {}
        }
      ]
    },
    {
      "cell_type": "code",
      "source": [
        "# Leitura do arquivos através da pasta do Drive no Colab\n",
        "# Outra opção de carregamento\n",
        "%%time\n",
        "# Leitura do Dataset\n",
        "# data = pd.read_csv('dados_fraude.csv') Carregamento feito localmente\n",
        "data = pd.read_csv('./PS_20174392719_1491204439457_log.csv')"
      ],
      "metadata": {
        "colab": {
          "base_uri": "https://localhost:8080/"
        },
        "id": "m5CMIJIHBH2f",
        "outputId": "e2d30aea-0944-4227-8051-743956525093"
      },
      "execution_count": null,
      "outputs": [
        {
          "output_type": "stream",
          "name": "stdout",
          "text": [
            "CPU times: user 8.13 s, sys: 1.47 s, total: 9.6 s\n",
            "Wall time: 9.66 s\n"
          ]
        }
      ]
    },
    {
      "cell_type": "markdown",
      "source": [
        "### Explorando o dataset"
      ],
      "metadata": {
        "id": "2DqwSZV7BaM6"
      }
    },
    {
      "cell_type": "code",
      "source": [
        "# Verifica as 10 primeiras linhas e todas as colunas do Dataframe carregado\n",
        "data.head(10)"
      ],
      "metadata": {
        "id": "qY56H0DassM3"
      },
      "execution_count": null,
      "outputs": []
    },
    {
      "cell_type": "code",
      "source": [
        "# Verifica todas as colunas do Dataframe\n",
        "%%time\n",
        "data.columns"
      ],
      "metadata": {
        "colab": {
          "base_uri": "https://localhost:8080/"
        },
        "id": "FIqzxbPGBODS",
        "outputId": "7994646d-eed6-47e5-e3e1-973b281d2874"
      },
      "execution_count": null,
      "outputs": [
        {
          "output_type": "stream",
          "name": "stdout",
          "text": [
            "CPU times: user 15 µs, sys: 0 ns, total: 15 µs\n",
            "Wall time: 18.1 µs\n"
          ]
        },
        {
          "output_type": "execute_result",
          "data": {
            "text/plain": [
              "Index(['step', 'type', 'amount', 'nameOrig', 'oldbalanceOrg', 'newbalanceOrig',\n",
              "       'nameDest', 'oldbalanceDest', 'newbalanceDest', 'isFraud',\n",
              "       'isFlaggedFraud'],\n",
              "      dtype='object')"
            ]
          },
          "metadata": {},
          "execution_count": 5
        }
      ]
    },
    {
      "cell_type": "code",
      "source": [
        "# Verifica quais são os valores únicos na coluna da feature 'step'\n",
        "data.step.unique()"
      ],
      "metadata": {
        "colab": {
          "base_uri": "https://localhost:8080/"
        },
        "id": "Xl9VeZK2BW_t",
        "outputId": "4f245439-0610-4bb9-c456-77f123bdbba1"
      },
      "execution_count": null,
      "outputs": [
        {
          "output_type": "execute_result",
          "data": {
            "text/plain": [
              "array([  1,   2,   3,   4,   5,   6,   7,   8,   9,  10,  11,  12,  13,\n",
              "        14,  15,  16,  17,  18,  19,  20,  21,  22,  23,  24,  25,  26,\n",
              "        27,  28,  29,  30,  31,  32,  33,  34,  35,  36,  37,  38,  39,\n",
              "        40,  41,  42,  43,  44,  45,  46,  47,  48,  49,  50,  51,  52,\n",
              "        53,  54,  55,  56,  57,  58,  59,  60,  61,  62,  63,  64,  65,\n",
              "        66,  67,  68,  69,  70,  71,  72,  73,  74,  75,  76,  77,  78,\n",
              "        79,  80,  81,  82,  83,  84,  85,  86,  87,  88,  89,  90,  91,\n",
              "        92,  93,  94,  95,  96,  97,  98,  99, 100, 101, 102, 103, 104,\n",
              "       105, 106, 107, 108, 109, 110, 111, 112, 113, 114, 115, 116, 117,\n",
              "       118, 119, 120, 121, 122, 123, 124, 125, 126, 127, 128, 129, 130,\n",
              "       131, 132, 133, 134, 135, 136, 137, 138, 139, 140, 141, 142, 143,\n",
              "       144, 145, 146, 147, 148, 149, 150, 151, 152, 153, 154, 155, 156,\n",
              "       157, 158, 159, 160, 161, 162, 163, 164, 165, 166, 167, 168, 169,\n",
              "       170, 171, 172, 173, 174, 175, 176, 177, 178, 179, 180, 181, 182,\n",
              "       183, 184, 185, 186, 187, 188, 189, 190, 191, 192, 193, 194, 195,\n",
              "       196, 197, 198, 199, 200, 201, 202, 203, 204, 205, 206, 207, 208,\n",
              "       209, 210, 211, 212, 213, 214, 215, 216, 217, 218, 219, 220, 221,\n",
              "       222, 223, 224, 225, 226, 227, 228, 229, 230, 231, 232, 233, 234,\n",
              "       235, 236, 237, 238, 239, 240, 241, 242, 243, 244, 245, 246, 247,\n",
              "       248, 249, 250, 251, 252, 253, 254, 255, 256, 257, 258, 259, 260,\n",
              "       261, 262, 263, 264, 265, 266, 267, 268, 269, 270, 271, 272, 273,\n",
              "       274, 275, 276, 277, 278, 279, 280, 281, 282, 283, 284, 285, 286,\n",
              "       287, 288, 289, 290, 291, 292, 293, 294, 295, 296, 297, 298, 299,\n",
              "       300, 301, 302, 303, 304, 305, 306, 307, 308, 309, 310, 311, 312,\n",
              "       313, 314, 315, 316, 317, 318, 319, 320, 321, 322, 323, 324, 325,\n",
              "       326, 327, 328, 329, 330, 331, 332, 333, 334, 335, 336, 337, 338,\n",
              "       339, 340, 341, 342, 343, 344, 345, 346, 347, 348, 349, 350, 351,\n",
              "       352, 353, 354, 355, 356, 357, 358, 359, 360, 361, 362, 363, 364,\n",
              "       365, 366, 367, 368, 369, 370, 371, 372, 373, 374, 375, 376, 377,\n",
              "       378, 379, 380, 381, 382, 383, 384, 385, 386, 387, 388, 389, 390,\n",
              "       391, 392, 393, 394, 395, 396, 397, 398, 399, 400, 401, 402, 403,\n",
              "       404, 405, 406, 407, 408, 409, 410, 411, 412, 413, 414, 415, 416,\n",
              "       417, 418, 419, 420, 421, 422, 423, 424, 425, 426, 427, 428, 429,\n",
              "       430, 431, 432, 433, 434, 435, 436, 437, 438, 439, 440, 441, 442,\n",
              "       443, 444, 445, 446, 447, 448, 449, 450, 451, 452, 453, 454, 455,\n",
              "       456, 457, 458, 459, 460, 461, 462, 463, 464, 465, 466, 467, 468,\n",
              "       469, 470, 471, 472, 473, 474, 475, 476, 477, 478, 479, 480, 481,\n",
              "       482, 483, 484, 485, 486, 487, 488, 489, 490, 491, 492, 493, 494,\n",
              "       495, 496, 497, 498, 499, 500, 501, 502, 503, 504, 505, 506, 507,\n",
              "       508, 509, 510, 511, 512, 513, 514, 515, 516, 517, 518, 519, 520,\n",
              "       521, 522, 523, 524, 525, 526, 527, 528, 529, 530, 531, 532, 533,\n",
              "       534, 535, 536, 537, 538, 539, 540, 541, 542, 543, 544, 545, 546,\n",
              "       547, 548, 549, 550, 551, 552, 553, 554, 555, 556, 557, 558, 559,\n",
              "       560, 561, 562, 563, 564, 565, 566, 567, 568, 569, 570, 571, 572,\n",
              "       573, 574, 575, 576, 577, 578, 579, 580, 581, 582, 583, 584, 585,\n",
              "       586, 587, 588, 589, 590, 591, 592, 593, 594, 595, 596, 597, 598,\n",
              "       599, 600, 601, 602, 603, 604, 605, 606, 607, 608, 609, 610, 611,\n",
              "       612, 613, 614, 615, 616, 617, 618, 619, 620, 621, 622, 623, 624,\n",
              "       625, 626, 627, 628, 629, 630, 631, 632, 633, 634, 635, 636, 637,\n",
              "       638, 639, 640, 641, 642, 643, 644, 645, 646, 647, 648, 649, 650,\n",
              "       651, 652, 653, 654, 655, 656, 657, 658, 659, 660, 661, 662, 663,\n",
              "       664, 665, 666, 667, 668, 669, 670, 671, 672, 673, 674, 675, 676,\n",
              "       677, 678, 679, 680, 681, 682, 683, 684, 685, 686, 687, 688, 689,\n",
              "       690, 691, 692, 693, 694, 695, 696, 697, 698, 699, 700, 701, 702,\n",
              "       703, 704, 705, 706, 707, 708, 709, 710, 711, 712, 713, 714, 715,\n",
              "       716, 717, 718, 719, 720, 721, 722, 723, 724, 725, 726, 727, 728,\n",
              "       729, 730, 731, 732, 733, 734, 735, 736, 737, 738, 739, 740, 741,\n",
              "       742, 743])"
            ]
          },
          "metadata": {},
          "execution_count": 25
        }
      ]
    },
    {
      "cell_type": "code",
      "source": [
        "# Cria um gráfico de histograma da feature 'step' \n",
        "plt.figure(figsize=(15,5))\n",
        "sns.histplot(data.step, alpha=0.4, kde=True, kde_kws={\"cut\": 3})\n",
        "plt.title(\"Tempo\",size=16)\n",
        "plt.show() "
      ],
      "metadata": {
        "colab": {
          "base_uri": "https://localhost:8080/",
          "height": 352
        },
        "id": "C8NPk3PABdNf",
        "outputId": "0deb3ddc-d6c8-4150-bdc7-864c7656078a"
      },
      "execution_count": null,
      "outputs": [
        {
          "output_type": "display_data",
          "data": {
            "text/plain": [
              "<Figure size 1080x360 with 1 Axes>"
            ],
            "image/png": "[encoded data removed]"
          },
          "metadata": {
            "needs_background": "light"
          }
        }
      ]
    },
    {
      "cell_type": "markdown",
      "source": [
        "Este gráfico nos ajuda a definir as regras de negócio que correlacionam o horário da transação com sua probabilidade de ser fraude. Estatísticamente, estudos dizem que operações fraudulentas ocorrem em horários fora do comum."
      ],
      "metadata": {
        "id": "sYlADaootyx2"
      }
    },
    {
      "cell_type": "code",
      "source": [
        "# Verificando valores nulos\n",
        "nan_counts = data.isna().sum().sort_values(ascending=False)\n",
        "print(nan_counts)"
      ],
      "metadata": {
        "colab": {
          "base_uri": "https://localhost:8080/"
        },
        "id": "Dd27DO5wITF7",
        "outputId": "46145e30-c8cc-472a-d2ed-c494057ca505"
      },
      "execution_count": null,
      "outputs": [
        {
          "output_type": "stream",
          "name": "stdout",
          "text": [
            "step              0\n",
            "type              0\n",
            "amount            0\n",
            "nameOrig          0\n",
            "oldbalanceOrg     0\n",
            "newbalanceOrig    0\n",
            "nameDest          0\n",
            "oldbalanceDest    0\n",
            "newbalanceDest    0\n",
            "isFraud           0\n",
            "isFlaggedFraud    0\n",
            "dtype: int64\n"
          ]
        }
      ]
    },
    {
      "cell_type": "markdown",
      "source": [
        "### Avaliando o dataset"
      ],
      "metadata": {
        "id": "3OmRAhL8EzjO"
      }
    },
    {
      "cell_type": "code",
      "source": [
        "# Verificando os tipos de transações, informação categorizada da feature 'type'\n",
        "%%time\n",
        "data.type.unique()"
      ],
      "metadata": {
        "colab": {
          "base_uri": "https://localhost:8080/"
        },
        "id": "Ld0v8A9sE0mm",
        "outputId": "b7872335-8a6e-4d11-a984-f9e332e98829"
      },
      "execution_count": null,
      "outputs": [
        {
          "output_type": "stream",
          "name": "stdout",
          "text": [
            "CPU times: user 346 ms, sys: 2.75 ms, total: 349 ms\n",
            "Wall time: 362 ms\n"
          ]
        },
        {
          "output_type": "execute_result",
          "data": {
            "text/plain": [
              "array(['PAYMENT', 'TRANSFER', 'CASH_OUT', 'DEBIT', 'CASH_IN'],\n",
              "      dtype=object)"
            ]
          },
          "metadata": {},
          "execution_count": 24
        }
      ]
    },
    {
      "cell_type": "code",
      "source": [
        "# Verificando os tipos de dados de cada feature, além de informações gerais sobre o Dataframe\n",
        "%%time\n",
        "data.info()"
      ],
      "metadata": {
        "colab": {
          "base_uri": "https://localhost:8080/"
        },
        "id": "nHLG-8o1E17G",
        "outputId": "c3e65a3c-4245-4e14-d0aa-195e437871c3"
      },
      "execution_count": null,
      "outputs": [
        {
          "output_type": "stream",
          "name": "stdout",
          "text": [
            "<class 'pandas.core.frame.DataFrame'>\n",
            "RangeIndex: 6362620 entries, 0 to 6362619\n",
            "Data columns (total 11 columns):\n",
            " #   Column          Dtype  \n",
            "---  ------          -----  \n",
            " 0   step            int64  \n",
            " 1   type            object \n",
            " 2   amount          float64\n",
            " 3   nameOrig        object \n",
            " 4   oldbalanceOrg   float64\n",
            " 5   newbalanceOrig  float64\n",
            " 6   nameDest        object \n",
            " 7   oldbalanceDest  float64\n",
            " 8   newbalanceDest  float64\n",
            " 9   isFraud         int64  \n",
            " 10  isFlaggedFraud  int64  \n",
            "dtypes: float64(5), int64(3), object(3)\n",
            "memory usage: 534.0+ MB\n",
            "CPU times: user 9.23 ms, sys: 731 µs, total: 9.96 ms\n",
            "Wall time: 27.3 ms\n"
          ]
        }
      ]
    },
    {
      "cell_type": "code",
      "source": [
        "# Verifica valores faltantes\n",
        "%%time\n",
        "data.isnull().sum()"
      ],
      "metadata": {
        "colab": {
          "base_uri": "https://localhost:8080/"
        },
        "id": "k9Mtvs5SE3Lt",
        "outputId": "babcaa23-f66d-469a-ada6-94d5158700fb"
      },
      "execution_count": null,
      "outputs": [
        {
          "output_type": "stream",
          "name": "stdout",
          "text": [
            "CPU times: user 3.61 s, sys: 16.4 ms, total: 3.62 s\n",
            "Wall time: 3.65 s\n"
          ]
        },
        {
          "output_type": "execute_result",
          "data": {
            "text/plain": [
              "step              0\n",
              "type              0\n",
              "amount            0\n",
              "nameOrig          0\n",
              "oldbalanceOrg     0\n",
              "newbalanceOrig    0\n",
              "nameDest          0\n",
              "oldbalanceDest    0\n",
              "newbalanceDest    0\n",
              "isFraud           0\n",
              "isFlaggedFraud    0\n",
              "dtype: int64"
            ]
          },
          "metadata": {},
          "execution_count": 27
        }
      ]
    },
    {
      "cell_type": "markdown",
      "source": [
        "### Análise Exploratória"
      ],
      "metadata": {
        "id": "rTbEyQFlFmha"
      }
    },
    {
      "cell_type": "code",
      "source": [
        "# Cria um gráfico de barras para vizualizar as diferenças de quantidade das transações categorizadas pela feature 'type'\n",
        "%%time\n",
        "print(data.type.value_counts())\n",
        "_ = sns.countplot(x=\"type\", data=data)"
      ],
      "metadata": {
        "colab": {
          "base_uri": "https://localhost:8080/",
          "height": 430
        },
        "id": "eMXXBX-UFk9E",
        "outputId": "e3d99144-69bb-49b0-86fa-18492727bcaa"
      },
      "execution_count": null,
      "outputs": [
        {
          "output_type": "stream",
          "name": "stdout",
          "text": [
            "CASH_OUT    2237500\n",
            "PAYMENT     2151495\n",
            "CASH_IN     1399284\n",
            "TRANSFER     532909\n",
            "DEBIT         41432\n",
            "Name: type, dtype: int64\n",
            "CPU times: user 4.06 s, sys: 53.1 ms, total: 4.12 s\n",
            "Wall time: 4.13 s\n"
          ]
        },
        {
          "output_type": "display_data",
          "data": {
            "text/plain": [
              "<Figure size 432x288 with 1 Axes>"
            ],
            "image/png": "[encoded data removed]"
          },
          "metadata": {
            "needs_background": "light"
          }
        }
      ]
    },
    {
      "cell_type": "code",
      "source": [
        "# Cria um gráfico de barras para vizualizar as diferenças de quantidade das categorizadas da variável target\n",
        "%%time\n",
        "print(data.isFraud.value_counts())\n",
        "_ = sns.countplot(x=\"isFraud\", data=data)"
      ],
      "metadata": {
        "colab": {
          "base_uri": "https://localhost:8080/",
          "height": 377
        },
        "id": "kDn76_DyFx0t",
        "outputId": "8a25e716-89f7-41b6-e3f6-f4b6b3d1b7d0"
      },
      "execution_count": null,
      "outputs": [
        {
          "output_type": "stream",
          "name": "stdout",
          "text": [
            "0    6354407\n",
            "1       8213\n",
            "Name: isFraud, dtype: int64\n",
            "CPU times: user 523 ms, sys: 73.6 ms, total: 597 ms\n",
            "Wall time: 597 ms\n"
          ]
        },
        {
          "output_type": "display_data",
          "data": {
            "text/plain": [
              "<Figure size 432x288 with 1 Axes>"
            ],
            "image/png": "[encoded data removed]"
          },
          "metadata": {
            "needs_background": "light"
          }
        }
      ]
    },
    {
      "cell_type": "markdown",
      "source": [
        "Através deste gráfico já podemos ver que estamos lidando com um problema com forte desbalanceamento na variável target."
      ],
      "metadata": {
        "id": "z5NFivtyvHIl"
      }
    },
    {
      "cell_type": "code",
      "source": [
        "# Cria um gráfico de barras para vizualizar as diferenças de quantidade das categorizadas da feature de negócio 'isFlaggedFraud'\n",
        "%%time\n",
        "print(data.isFlaggedFraud.value_counts())\n",
        "sns.countplot(\"isFlaggedFraud\", data=data)"
      ],
      "metadata": {
        "colab": {
          "base_uri": "https://localhost:8080/",
          "height": 394
        },
        "id": "Iy4om88aF4K8",
        "outputId": "95d68976-cd69-42e6-f12f-f1aca2e5132b"
      },
      "execution_count": null,
      "outputs": [
        {
          "output_type": "stream",
          "name": "stdout",
          "text": [
            "0    6362604\n",
            "1         16\n",
            "Name: isFlaggedFraud, dtype: int64\n",
            "CPU times: user 599 ms, sys: 96.1 ms, total: 695 ms\n",
            "Wall time: 705 ms\n"
          ]
        },
        {
          "output_type": "execute_result",
          "data": {
            "text/plain": [
              "<AxesSubplot:xlabel='isFlaggedFraud', ylabel='count'>"
            ]
          },
          "metadata": {},
          "execution_count": 30
        },
        {
          "output_type": "display_data",
          "data": {
            "text/plain": [
              "<Figure size 432x288 with 1 Axes>"
            ],
            "image/png": "[encoded data removed]"
          },
          "metadata": {
            "needs_background": "light"
          }
        }
      ]
    },
    {
      "cell_type": "markdown",
      "source": [
        "### Engenharia de Features"
      ],
      "metadata": {
        "id": "qtWAnJWWGH_j"
      }
    },
    {
      "cell_type": "markdown",
      "source": [
        "#### Categorização"
      ],
      "metadata": {
        "id": "aVYMjY4THXJi"
      }
    },
    {
      "cell_type": "code",
      "source": [
        "# Criando uma função para transformar a variável numérica 'amount' (quantia de dinheiro transacionada) em categorias \n",
        "# Os intervalos podem ser alterados e testados, já que são regras de negócio e sua escolha, os intervalos abaixo foram definidos para esta solução \n",
        "%%time\n",
        "def transfer_category(x):\n",
        "    if x >= 500000:\n",
        "        return('HIGH')\n",
        "    elif x < 1000:\n",
        "        return('LOW')\n",
        "    else:\n",
        "        return('MODERATE')\n",
        "\n",
        "data['transfer_amount_category'] = data.amount.apply(transfer_category)    \n",
        "data.head(2)"
      ],
      "metadata": {
        "colab": {
          "base_uri": "https://localhost:8080/",
          "height": 211
        },
        "id": "nqLO12SfG3f7",
        "outputId": "69b53d05-13e6-49cb-a884-d1f525dc5cf7"
      },
      "execution_count": null,
      "outputs": [
        {
          "output_type": "stream",
          "name": "stdout",
          "text": [
            "CPU times: user 1.34 s, sys: 109 ms, total: 1.45 s\n",
            "Wall time: 1.5 s\n"
          ]
        },
        {
          "output_type": "execute_result",
          "data": {
            "text/plain": [
              "   step     type     amount     nameOrig  oldbalanceOrg  newbalanceOrig  \\\n",
              "0     1  PAYMENT 9839.64000  C1231006815   170136.00000    160296.36000   \n",
              "1     1  PAYMENT 1864.28000  C1666544295    21249.00000     19384.72000   \n",
              "\n",
              "      nameDest  oldbalanceDest  newbalanceDest  isFraud  isFlaggedFraud  \\\n",
              "0  M1979787155         0.00000         0.00000        0               0   \n",
              "1  M2044282225         0.00000         0.00000        0               0   \n",
              "\n",
              "  transfer_amount_category  \n",
              "0                 MODERATE  \n",
              "1                 MODERATE  "
            ],
            "text/html": [
              "\n",
              "  <div id=\"df-1cba4d37-0388-4e91-b699-a919876498ab\">\n",
              "    <div class=\"colab-df-container\">\n",
              "      <div>\n",
              "<style scoped>\n",
              "    .dataframe tbody tr th:only-of-type {\n",
              "        vertical-align: middle;\n",
              "    }\n",
              "\n",
              "    .dataframe tbody tr th {\n",
              "        vertical-align: top;\n",
              "    }\n",
              "\n",
              "    .dataframe thead th {\n",
              "        text-align: right;\n",
              "    }\n",
              "</style>\n",
              "<table border=\"1\" class=\"dataframe\">\n",
              "  <thead>\n",
              "    <tr style=\"text-align: right;\">\n",
              "      <th></th>\n",
              "      <th>step</th>\n",
              "      <th>type</th>\n",
              "      <th>amount</th>\n",
              "      <th>nameOrig</th>\n",
              "      <th>oldbalanceOrg</th>\n",
              "      <th>newbalanceOrig</th>\n",
              "      <th>nameDest</th>\n",
              "      <th>oldbalanceDest</th>\n",
              "      <th>newbalanceDest</th>\n",
              "      <th>isFraud</th>\n",
              "      <th>isFlaggedFraud</th>\n",
              "      <th>transfer_amount_category</th>\n",
              "    </tr>\n",
              "  </thead>\n",
              "  <tbody>\n",
              "    <tr>\n",
              "      <th>0</th>\n",
              "      <td>1</td>\n",
              "      <td>PAYMENT</td>\n",
              "      <td>9839.64000</td>\n",
              "      <td>C1231006815</td>\n",
              "      <td>170136.00000</td>\n",
              "      <td>160296.36000</td>\n",
              "      <td>M1979787155</td>\n",
              "      <td>0.00000</td>\n",
              "      <td>0.00000</td>\n",
              "      <td>0</td>\n",
              "      <td>0</td>\n",
              "      <td>MODERATE</td>\n",
              "    </tr>\n",
              "    <tr>\n",
              "      <th>1</th>\n",
              "      <td>1</td>\n",
              "      <td>PAYMENT</td>\n",
              "      <td>1864.28000</td>\n",
              "      <td>C1666544295</td>\n",
              "      <td>21249.00000</td>\n",
              "      <td>19384.72000</td>\n",
              "      <td>M2044282225</td>\n",
              "      <td>0.00000</td>\n",
              "      <td>0.00000</td>\n",
              "      <td>0</td>\n",
              "      <td>0</td>\n",
              "      <td>MODERATE</td>\n",
              "    </tr>\n",
              "  </tbody>\n",
              "</table>\n",
              "</div>\n",
              "      <button class=\"colab-df-convert\" onclick=\"convertToInteractive('df-1cba4d37-0388-4e91-b699-a919876498ab')\"\n",
              "              title=\"Convert this dataframe to an interactive table.\"\n",
              "              style=\"display:none;\">\n",
              "        \n",
              "  <svg xmlns=\"http://www.w3.org/2000/svg\" height=\"24px\"viewBox=\"0 0 24 24\"\n",
              "       width=\"24px\">\n",
              "    <path d=\"M0 0h24v24H0V0z\" fill=\"none\"/>\n",
              "    <path d=\"M18.56 5.44l.94 2.06.94-2.06 2.06-.94-2.06-.94-.94-2.06-.94 2.06-2.06.94zm-11 1L8.5 8.5l.94-2.06 2.06-.94-2.06-.94L8.5 2.5l-.94 2.06-2.06.94zm10 10l.94 2.06.94-2.06 2.06-.94-2.06-.94-.94-2.06-.94 2.06-2.06.94z\"/><path d=\"M17.41 7.96l-1.37-1.37c-.4-.4-.92-.59-1.43-.59-.52 0-1.04.2-1.43.59L10.3 9.45l-7.72 7.72c-.78.78-.78 2.05 0 2.83L4 21.41c.39.39.9.59 1.41.59.51 0 1.02-.2 1.41-.59l7.78-7.78 2.81-2.81c.8-.78.8-2.07 0-2.86zM5.41 20L4 18.59l7.72-7.72 1.47 1.35L5.41 20z\"/>\n",
              "  </svg>\n",
              "      </button>\n",
              "      \n",
              "  <style>\n",
              "    .colab-df-container {\n",
              "      display:flex;\n",
              "      flex-wrap:wrap;\n",
              "      gap: 12px;\n",
              "    }\n",
              "\n",
              "    .colab-df-convert {\n",
              "      background-color: #E8F0FE;\n",
              "      border: none;\n",
              "      border-radius: 50%;\n",
              "      cursor: pointer;\n",
              "      display: none;\n",
              "      fill: #1967D2;\n",
              "      height: 32px;\n",
              "      padding: 0 0 0 0;\n",
              "      width: 32px;\n",
              "    }\n",
              "\n",
              "    .colab-df-convert:hover {\n",
              "      background-color: #E2EBFA;\n",
              "      box-shadow: 0px 1px 2px rgba(60, 64, 67, 0.3), 0px 1px 3px 1px rgba(60, 64, 67, 0.15);\n",
              "      fill: #174EA6;\n",
              "    }\n",
              "\n",
              "    [theme=dark] .colab-df-convert {\n",
              "      background-color: #3B4455;\n",
              "      fill: #D2E3FC;\n",
              "    }\n",
              "\n",
              "    [theme=dark] .colab-df-convert:hover {\n",
              "      background-color: #434B5C;\n",
              "      box-shadow: 0px 1px 3px 1px rgba(0, 0, 0, 0.15);\n",
              "      filter: drop-shadow(0px 1px 2px rgba(0, 0, 0, 0.3));\n",
              "      fill: #FFFFFF;\n",
              "    }\n",
              "  </style>\n",
              "\n",
              "      <script>\n",
              "        const buttonEl =\n",
              "          document.querySelector('#df-1cba4d37-0388-4e91-b699-a919876498ab button.colab-df-convert');\n",
              "        buttonEl.style.display =\n",
              "          google.colab.kernel.accessAllowed ? 'block' : 'none';\n",
              "\n",
              "        async function convertToInteractive(key) {\n",
              "          const element = document.querySelector('#df-1cba4d37-0388-4e91-b699-a919876498ab');\n",
              "          const dataTable =\n",
              "            await google.colab.kernel.invokeFunction('convertToInteractive',\n",
              "                                                     [key], {});\n",
              "          if (!dataTable) return;\n",
              "\n",
              "          const docLinkHtml = 'Like what you see? Visit the ' +\n",
              "            '<a target=\"_blank\" href=https://colab.research.google.com/notebooks/data_table.ipynb>data table notebook</a>'\n",
              "            + ' to learn more about interactive tables.';\n",
              "          element.innerHTML = '';\n",
              "          dataTable['output_type'] = 'display_data';\n",
              "          await google.colab.output.renderOutput(dataTable, element);\n",
              "          const docLink = document.createElement('div');\n",
              "          docLink.innerHTML = docLinkHtml;\n",
              "          element.appendChild(docLink);\n",
              "        }\n",
              "      </script>\n",
              "    </div>\n",
              "  </div>\n",
              "  "
            ]
          },
          "metadata": {},
          "execution_count": 26
        }
      ]
    },
    {
      "cell_type": "markdown",
      "source": [
        "Transformar a variável numérica em 3 categorias distintas é uma técnica utilizada já que, neste problema, não nos interessa exatamente o valor da transação, mas sim se ela se enquadra em padrões considerados como indicadores de fraude. Conforme visto nos estudos científicos, tanto transações de valores muito baixos e, principalmente, muito altos, são maiores potenciais de fraude."
      ],
      "metadata": {
        "id": "PnTMKJLswRYX"
      }
    },
    {
      "cell_type": "code",
      "source": [
        "# Verificando a quantidade presente em cada categoria criada\n",
        "counts_sorted = data['transfer_amount_category'].value_counts().sort_values()\n",
        "print(counts_sorted)"
      ],
      "metadata": {
        "colab": {
          "base_uri": "https://localhost:8080/"
        },
        "id": "BIwqnUzWG37e",
        "outputId": "ba10527d-5dbf-4062-f346-cef57f778207"
      },
      "execution_count": null,
      "outputs": [
        {
          "output_type": "stream",
          "name": "stdout",
          "text": [
            "LOW          142642\n",
            "HIGH         340284\n",
            "MODERATE    5879694\n",
            "Name: transfer_amount_category, dtype: int64\n"
          ]
        }
      ]
    },
    {
      "cell_type": "markdown",
      "source": [
        "Assim como verificamos na variável target, temos um problema com dados desbalanceados, portanto era esperado que, categorias com maior potencial de serem fraudes sejam menos frequentes que a categoria \"MODERATE\", que não é comum em transações fraudulentas."
      ],
      "metadata": {
        "id": "nJ7UI5RU4nDq"
      }
    },
    {
      "cell_type": "code",
      "source": [
        "# Criando uma função para transformar a variável numérica 'step' (relacionada com o tempo/horário da transação) em categorias \n",
        "# Os intervalos podem ser alterados e testados, já que são regras de negócio e sua escolha, os intervalos abaixo foram definidos para esta solução \n",
        "%%time\n",
        "def step_category(x):\n",
        "    if x >= 60 and x < 120:\n",
        "        return('UNUSUAL_TIME')\n",
        "    elif x > 400:\n",
        "        return('UNUSUAL_TIME')\n",
        "    else:\n",
        "        return('COMMON_TIME')\n",
        "\n",
        "data['step_category'] = data.step.apply(step_category)    \n",
        "data.head(2)"
      ],
      "metadata": {
        "colab": {
          "base_uri": "https://localhost:8080/",
          "height": 211
        },
        "id": "hc8F7L2WG6YE",
        "outputId": "142a6bda-4738-4b78-e61a-21d508d93629"
      },
      "execution_count": null,
      "outputs": [
        {
          "output_type": "stream",
          "name": "stdout",
          "text": [
            "CPU times: user 933 ms, sys: 132 ms, total: 1.06 s\n",
            "Wall time: 1.06 s\n"
          ]
        },
        {
          "output_type": "execute_result",
          "data": {
            "text/plain": [
              "   step     type     amount     nameOrig  oldbalanceOrg  newbalanceOrig  \\\n",
              "0     1  PAYMENT 9839.64000  C1231006815   170136.00000    160296.36000   \n",
              "1     1  PAYMENT 1864.28000  C1666544295    21249.00000     19384.72000   \n",
              "\n",
              "      nameDest  oldbalanceDest  newbalanceDest  isFraud  isFlaggedFraud  \\\n",
              "0  M1979787155         0.00000         0.00000        0               0   \n",
              "1  M2044282225         0.00000         0.00000        0               0   \n",
              "\n",
              "  transfer_amount_category step_category  \n",
              "0                 MODERATE   COMMON_TIME  \n",
              "1                 MODERATE   COMMON_TIME  "
            ],
            "text/html": [
              "\n",
              "  <div id=\"df-ab772dd9-adaa-4baa-b010-1aef681e0493\">\n",
              "    <div class=\"colab-df-container\">\n",
              "      <div>\n",
              "<style scoped>\n",
              "    .dataframe tbody tr th:only-of-type {\n",
              "        vertical-align: middle;\n",
              "    }\n",
              "\n",
              "    .dataframe tbody tr th {\n",
              "        vertical-align: top;\n",
              "    }\n",
              "\n",
              "    .dataframe thead th {\n",
              "        text-align: right;\n",
              "    }\n",
              "</style>\n",
              "<table border=\"1\" class=\"dataframe\">\n",
              "  <thead>\n",
              "    <tr style=\"text-align: right;\">\n",
              "      <th></th>\n",
              "      <th>step</th>\n",
              "      <th>type</th>\n",
              "      <th>amount</th>\n",
              "      <th>nameOrig</th>\n",
              "      <th>oldbalanceOrg</th>\n",
              "      <th>newbalanceOrig</th>\n",
              "      <th>nameDest</th>\n",
              "      <th>oldbalanceDest</th>\n",
              "      <th>newbalanceDest</th>\n",
              "      <th>isFraud</th>\n",
              "      <th>isFlaggedFraud</th>\n",
              "      <th>transfer_amount_category</th>\n",
              "      <th>step_category</th>\n",
              "    </tr>\n",
              "  </thead>\n",
              "  <tbody>\n",
              "    <tr>\n",
              "      <th>0</th>\n",
              "      <td>1</td>\n",
              "      <td>PAYMENT</td>\n",
              "      <td>9839.64000</td>\n",
              "      <td>C1231006815</td>\n",
              "      <td>170136.00000</td>\n",
              "      <td>160296.36000</td>\n",
              "      <td>M1979787155</td>\n",
              "      <td>0.00000</td>\n",
              "      <td>0.00000</td>\n",
              "      <td>0</td>\n",
              "      <td>0</td>\n",
              "      <td>MODERATE</td>\n",
              "      <td>COMMON_TIME</td>\n",
              "    </tr>\n",
              "    <tr>\n",
              "      <th>1</th>\n",
              "      <td>1</td>\n",
              "      <td>PAYMENT</td>\n",
              "      <td>1864.28000</td>\n",
              "      <td>C1666544295</td>\n",
              "      <td>21249.00000</td>\n",
              "      <td>19384.72000</td>\n",
              "      <td>M2044282225</td>\n",
              "      <td>0.00000</td>\n",
              "      <td>0.00000</td>\n",
              "      <td>0</td>\n",
              "      <td>0</td>\n",
              "      <td>MODERATE</td>\n",
              "      <td>COMMON_TIME</td>\n",
              "    </tr>\n",
              "  </tbody>\n",
              "</table>\n",
              "</div>\n",
              "      <button class=\"colab-df-convert\" onclick=\"convertToInteractive('df-ab772dd9-adaa-4baa-b010-1aef681e0493')\"\n",
              "              title=\"Convert this dataframe to an interactive table.\"\n",
              "              style=\"display:none;\">\n",
              "        \n",
              "  <svg xmlns=\"http://www.w3.org/2000/svg\" height=\"24px\"viewBox=\"0 0 24 24\"\n",
              "       width=\"24px\">\n",
              "    <path d=\"M0 0h24v24H0V0z\" fill=\"none\"/>\n",
              "    <path d=\"M18.56 5.44l.94 2.06.94-2.06 2.06-.94-2.06-.94-.94-2.06-.94 2.06-2.06.94zm-11 1L8.5 8.5l.94-2.06 2.06-.94-2.06-.94L8.5 2.5l-.94 2.06-2.06.94zm10 10l.94 2.06.94-2.06 2.06-.94-2.06-.94-.94-2.06-.94 2.06-2.06.94z\"/><path d=\"M17.41 7.96l-1.37-1.37c-.4-.4-.92-.59-1.43-.59-.52 0-1.04.2-1.43.59L10.3 9.45l-7.72 7.72c-.78.78-.78 2.05 0 2.83L4 21.41c.39.39.9.59 1.41.59.51 0 1.02-.2 1.41-.59l7.78-7.78 2.81-2.81c.8-.78.8-2.07 0-2.86zM5.41 20L4 18.59l7.72-7.72 1.47 1.35L5.41 20z\"/>\n",
              "  </svg>\n",
              "      </button>\n",
              "      \n",
              "  <style>\n",
              "    .colab-df-container {\n",
              "      display:flex;\n",
              "      flex-wrap:wrap;\n",
              "      gap: 12px;\n",
              "    }\n",
              "\n",
              "    .colab-df-convert {\n",
              "      background-color: #E8F0FE;\n",
              "      border: none;\n",
              "      border-radius: 50%;\n",
              "      cursor: pointer;\n",
              "      display: none;\n",
              "      fill: #1967D2;\n",
              "      height: 32px;\n",
              "      padding: 0 0 0 0;\n",
              "      width: 32px;\n",
              "    }\n",
              "\n",
              "    .colab-df-convert:hover {\n",
              "      background-color: #E2EBFA;\n",
              "      box-shadow: 0px 1px 2px rgba(60, 64, 67, 0.3), 0px 1px 3px 1px rgba(60, 64, 67, 0.15);\n",
              "      fill: #174EA6;\n",
              "    }\n",
              "\n",
              "    [theme=dark] .colab-df-convert {\n",
              "      background-color: #3B4455;\n",
              "      fill: #D2E3FC;\n",
              "    }\n",
              "\n",
              "    [theme=dark] .colab-df-convert:hover {\n",
              "      background-color: #434B5C;\n",
              "      box-shadow: 0px 1px 3px 1px rgba(0, 0, 0, 0.15);\n",
              "      filter: drop-shadow(0px 1px 2px rgba(0, 0, 0, 0.3));\n",
              "      fill: #FFFFFF;\n",
              "    }\n",
              "  </style>\n",
              "\n",
              "      <script>\n",
              "        const buttonEl =\n",
              "          document.querySelector('#df-ab772dd9-adaa-4baa-b010-1aef681e0493 button.colab-df-convert');\n",
              "        buttonEl.style.display =\n",
              "          google.colab.kernel.accessAllowed ? 'block' : 'none';\n",
              "\n",
              "        async function convertToInteractive(key) {\n",
              "          const element = document.querySelector('#df-ab772dd9-adaa-4baa-b010-1aef681e0493');\n",
              "          const dataTable =\n",
              "            await google.colab.kernel.invokeFunction('convertToInteractive',\n",
              "                                                     [key], {});\n",
              "          if (!dataTable) return;\n",
              "\n",
              "          const docLinkHtml = 'Like what you see? Visit the ' +\n",
              "            '<a target=\"_blank\" href=https://colab.research.google.com/notebooks/data_table.ipynb>data table notebook</a>'\n",
              "            + ' to learn more about interactive tables.';\n",
              "          element.innerHTML = '';\n",
              "          dataTable['output_type'] = 'display_data';\n",
              "          await google.colab.output.renderOutput(dataTable, element);\n",
              "          const docLink = document.createElement('div');\n",
              "          docLink.innerHTML = docLinkHtml;\n",
              "          element.appendChild(docLink);\n",
              "        }\n",
              "      </script>\n",
              "    </div>\n",
              "  </div>\n",
              "  "
            ]
          },
          "metadata": {},
          "execution_count": 27
        }
      ]
    },
    {
      "cell_type": "code",
      "source": [
        "# Verificando a quantidade presente em cada categoria criada\n",
        "counts_sorted = data['step_category'].value_counts().sort_values()\n",
        "print(counts_sorted)"
      ],
      "metadata": {
        "colab": {
          "base_uri": "https://localhost:8080/"
        },
        "id": "fPXboujrHNgQ",
        "outputId": "ec2873a2-dc5a-4492-f890-441d47649f82"
      },
      "execution_count": null,
      "outputs": [
        {
          "output_type": "stream",
          "name": "stdout",
          "text": [
            "UNUSUAL_TIME     610663\n",
            "COMMON_TIME     5751957\n",
            "Name: step_category, dtype: int64\n"
          ]
        }
      ]
    },
    {
      "cell_type": "markdown",
      "source": [
        "#### Features Textuais"
      ],
      "metadata": {
        "id": "MjFddyp3Hai4"
      }
    },
    {
      "cell_type": "code",
      "source": [
        "# Utiliza a classe LabelEncoder do módulo sklearn.preprocessing para codificar as categorias de algumas variáveis ​​do DataFrame como números inteiros\n",
        "# Essa técnica é útil quando se trabalha com algoritmos de aprendizado de máquina que exigem dados numéricos como entrada, como neste projeto\n",
        "%%time\n",
        "# Cria um objeto LabelEncoder chamado \"label_encoder\"\n",
        "label_encoder = LabelEncoder() \n",
        "# Aplica o método fit_transform do objeto LabelEncoder ao Dataframe\n",
        "data['type_encode'] = label_encoder.fit_transform(data['type']) \n",
        "data['nameOrig_encode'] = label_encoder.fit_transform(data['nameOrig']) \n",
        "data['nameDest_encode'] = label_encoder.fit_transform(data['nameDest']) \n",
        "data['transfer_amount_category_encode'] = label_encoder.fit_transform(data['transfer_amount_category']) \n",
        "data['step_category_encode'] = label_encoder.fit_transform(data['step_category']) "
      ],
      "metadata": {
        "colab": {
          "base_uri": "https://localhost:8080/"
        },
        "id": "fxmyl9gmHPnk",
        "outputId": "e148dbaa-8b76-4fa0-cf52-a78369304fdb"
      },
      "execution_count": null,
      "outputs": [
        {
          "output_type": "stream",
          "name": "stdout",
          "text": [
            "CPU times: user 42.4 s, sys: 1.37 s, total: 43.8 s\n",
            "Wall time: 43.9 s\n"
          ]
        }
      ]
    },
    {
      "cell_type": "markdown",
      "source": [
        "Essa técnica cria novas colunas, numéricas, que correspondem as variáveis categóricas escolhidas no bloco acima."
      ],
      "metadata": {
        "id": "JgcthQHI7cXh"
      }
    },
    {
      "cell_type": "code",
      "source": [
        "# Verificando o \"novo\" Dataframe com as novas colunas criadas\n",
        "%%time\n",
        "data.head(2)"
      ],
      "metadata": {
        "colab": {
          "base_uri": "https://localhost:8080/",
          "height": 211
        },
        "id": "DHK4JCoWHgBV",
        "outputId": "0413e506-17ef-4b79-d52a-954c0f6d66fb"
      },
      "execution_count": null,
      "outputs": [
        {
          "output_type": "stream",
          "name": "stdout",
          "text": [
            "CPU times: user 387 µs, sys: 0 ns, total: 387 µs\n",
            "Wall time: 362 µs\n"
          ]
        },
        {
          "output_type": "execute_result",
          "data": {
            "text/plain": [
              "   step     type     amount     nameOrig  oldbalanceOrg  newbalanceOrig  \\\n",
              "0     1  PAYMENT 9839.64000  C1231006815   170136.00000    160296.36000   \n",
              "1     1  PAYMENT 1864.28000  C1666544295    21249.00000     19384.72000   \n",
              "\n",
              "      nameDest  oldbalanceDest  newbalanceDest  isFraud  isFlaggedFraud  \\\n",
              "0  M1979787155         0.00000         0.00000        0               0   \n",
              "1  M2044282225         0.00000         0.00000        0               0   \n",
              "\n",
              "  transfer_amount_category step_category  type_encode  nameOrig_encode  \\\n",
              "0                 MODERATE   COMMON_TIME            3           757869   \n",
              "1                 MODERATE   COMMON_TIME            3          2188998   \n",
              "\n",
              "   nameDest_encode  transfer_amount_category_encode  step_category_encode  \n",
              "0          1662094                                2                     0  \n",
              "1          1733924                                2                     0  "
            ],
            "text/html": [
              "\n",
              "  <div id=\"df-534be684-fb29-4aa9-9fe5-6cf2e5b68b5d\">\n",
              "    <div class=\"colab-df-container\">\n",
              "      <div>\n",
              "<style scoped>\n",
              "    .dataframe tbody tr th:only-of-type {\n",
              "        vertical-align: middle;\n",
              "    }\n",
              "\n",
              "    .dataframe tbody tr th {\n",
              "        vertical-align: top;\n",
              "    }\n",
              "\n",
              "    .dataframe thead th {\n",
              "        text-align: right;\n",
              "    }\n",
              "</style>\n",
              "<table border=\"1\" class=\"dataframe\">\n",
              "  <thead>\n",
              "    <tr style=\"text-align: right;\">\n",
              "      <th></th>\n",
              "      <th>step</th>\n",
              "      <th>type</th>\n",
              "      <th>amount</th>\n",
              "      <th>nameOrig</th>\n",
              "      <th>oldbalanceOrg</th>\n",
              "      <th>newbalanceOrig</th>\n",
              "      <th>nameDest</th>\n",
              "      <th>oldbalanceDest</th>\n",
              "      <th>newbalanceDest</th>\n",
              "      <th>isFraud</th>\n",
              "      <th>isFlaggedFraud</th>\n",
              "      <th>transfer_amount_category</th>\n",
              "      <th>step_category</th>\n",
              "      <th>type_encode</th>\n",
              "      <th>nameOrig_encode</th>\n",
              "      <th>nameDest_encode</th>\n",
              "      <th>transfer_amount_category_encode</th>\n",
              "      <th>step_category_encode</th>\n",
              "    </tr>\n",
              "  </thead>\n",
              "  <tbody>\n",
              "    <tr>\n",
              "      <th>0</th>\n",
              "      <td>1</td>\n",
              "      <td>PAYMENT</td>\n",
              "      <td>9839.64000</td>\n",
              "      <td>C1231006815</td>\n",
              "      <td>170136.00000</td>\n",
              "      <td>160296.36000</td>\n",
              "      <td>M1979787155</td>\n",
              "      <td>0.00000</td>\n",
              "      <td>0.00000</td>\n",
              "      <td>0</td>\n",
              "      <td>0</td>\n",
              "      <td>MODERATE</td>\n",
              "      <td>COMMON_TIME</td>\n",
              "      <td>3</td>\n",
              "      <td>757869</td>\n",
              "      <td>1662094</td>\n",
              "      <td>2</td>\n",
              "      <td>0</td>\n",
              "    </tr>\n",
              "    <tr>\n",
              "      <th>1</th>\n",
              "      <td>1</td>\n",
              "      <td>PAYMENT</td>\n",
              "      <td>1864.28000</td>\n",
              "      <td>C1666544295</td>\n",
              "      <td>21249.00000</td>\n",
              "      <td>19384.72000</td>\n",
              "      <td>M2044282225</td>\n",
              "      <td>0.00000</td>\n",
              "      <td>0.00000</td>\n",
              "      <td>0</td>\n",
              "      <td>0</td>\n",
              "      <td>MODERATE</td>\n",
              "      <td>COMMON_TIME</td>\n",
              "      <td>3</td>\n",
              "      <td>2188998</td>\n",
              "      <td>1733924</td>\n",
              "      <td>2</td>\n",
              "      <td>0</td>\n",
              "    </tr>\n",
              "  </tbody>\n",
              "</table>\n",
              "</div>\n",
              "      <button class=\"colab-df-convert\" onclick=\"convertToInteractive('df-534be684-fb29-4aa9-9fe5-6cf2e5b68b5d')\"\n",
              "              title=\"Convert this dataframe to an interactive table.\"\n",
              "              style=\"display:none;\">\n",
              "        \n",
              "  <svg xmlns=\"http://www.w3.org/2000/svg\" height=\"24px\"viewBox=\"0 0 24 24\"\n",
              "       width=\"24px\">\n",
              "    <path d=\"M0 0h24v24H0V0z\" fill=\"none\"/>\n",
              "    <path d=\"M18.56 5.44l.94 2.06.94-2.06 2.06-.94-2.06-.94-.94-2.06-.94 2.06-2.06.94zm-11 1L8.5 8.5l.94-2.06 2.06-.94-2.06-.94L8.5 2.5l-.94 2.06-2.06.94zm10 10l.94 2.06.94-2.06 2.06-.94-2.06-.94-.94-2.06-.94 2.06-2.06.94z\"/><path d=\"M17.41 7.96l-1.37-1.37c-.4-.4-.92-.59-1.43-.59-.52 0-1.04.2-1.43.59L10.3 9.45l-7.72 7.72c-.78.78-.78 2.05 0 2.83L4 21.41c.39.39.9.59 1.41.59.51 0 1.02-.2 1.41-.59l7.78-7.78 2.81-2.81c.8-.78.8-2.07 0-2.86zM5.41 20L4 18.59l7.72-7.72 1.47 1.35L5.41 20z\"/>\n",
              "  </svg>\n",
              "      </button>\n",
              "      \n",
              "  <style>\n",
              "    .colab-df-container {\n",
              "      display:flex;\n",
              "      flex-wrap:wrap;\n",
              "      gap: 12px;\n",
              "    }\n",
              "\n",
              "    .colab-df-convert {\n",
              "      background-color: #E8F0FE;\n",
              "      border: none;\n",
              "      border-radius: 50%;\n",
              "      cursor: pointer;\n",
              "      display: none;\n",
              "      fill: #1967D2;\n",
              "      height: 32px;\n",
              "      padding: 0 0 0 0;\n",
              "      width: 32px;\n",
              "    }\n",
              "\n",
              "    .colab-df-convert:hover {\n",
              "      background-color: #E2EBFA;\n",
              "      box-shadow: 0px 1px 2px rgba(60, 64, 67, 0.3), 0px 1px 3px 1px rgba(60, 64, 67, 0.15);\n",
              "      fill: #174EA6;\n",
              "    }\n",
              "\n",
              "    [theme=dark] .colab-df-convert {\n",
              "      background-color: #3B4455;\n",
              "      fill: #D2E3FC;\n",
              "    }\n",
              "\n",
              "    [theme=dark] .colab-df-convert:hover {\n",
              "      background-color: #434B5C;\n",
              "      box-shadow: 0px 1px 3px 1px rgba(0, 0, 0, 0.15);\n",
              "      filter: drop-shadow(0px 1px 2px rgba(0, 0, 0, 0.3));\n",
              "      fill: #FFFFFF;\n",
              "    }\n",
              "  </style>\n",
              "\n",
              "      <script>\n",
              "        const buttonEl =\n",
              "          document.querySelector('#df-534be684-fb29-4aa9-9fe5-6cf2e5b68b5d button.colab-df-convert');\n",
              "        buttonEl.style.display =\n",
              "          google.colab.kernel.accessAllowed ? 'block' : 'none';\n",
              "\n",
              "        async function convertToInteractive(key) {\n",
              "          const element = document.querySelector('#df-534be684-fb29-4aa9-9fe5-6cf2e5b68b5d');\n",
              "          const dataTable =\n",
              "            await google.colab.kernel.invokeFunction('convertToInteractive',\n",
              "                                                     [key], {});\n",
              "          if (!dataTable) return;\n",
              "\n",
              "          const docLinkHtml = 'Like what you see? Visit the ' +\n",
              "            '<a target=\"_blank\" href=https://colab.research.google.com/notebooks/data_table.ipynb>data table notebook</a>'\n",
              "            + ' to learn more about interactive tables.';\n",
              "          element.innerHTML = '';\n",
              "          dataTable['output_type'] = 'display_data';\n",
              "          await google.colab.output.renderOutput(dataTable, element);\n",
              "          const docLink = document.createElement('div');\n",
              "          docLink.innerHTML = docLinkHtml;\n",
              "          element.appendChild(docLink);\n",
              "        }\n",
              "      </script>\n",
              "    </div>\n",
              "  </div>\n",
              "  "
            ]
          },
          "metadata": {},
          "execution_count": 36
        }
      ]
    },
    {
      "cell_type": "code",
      "source": [
        "# Selecionando as features que serão utilziadas na modelagem e, primeiramente, aplicadas ao método de normalização com o Robust Scaler\n",
        "data_rs = data[['oldbalanceOrg', 'newbalanceOrig', 'oldbalanceDest', 'newbalanceDest', 'isFlaggedFraud', 'type_encode', 'nameOrig_encode', 'nameDest_encode', 'transfer_amount_category_encode', 'step_category_encode']]"
      ],
      "metadata": {
        "id": "qMBQEPE_HmFp"
      },
      "execution_count": null,
      "outputs": []
    },
    {
      "cell_type": "code",
      "source": [
        "# Importa a biblioteca para utilizar a normalização do RobustScaler\n",
        "from sklearn.preprocessing import RobustScaler\n",
        "# Cria um objeto RobustScaler chamado \"robust_sc\"\n",
        "robust_sc = RobustScaler()"
      ],
      "metadata": {
        "id": "LbGw5WXHICSv"
      },
      "execution_count": null,
      "outputs": []
    },
    {
      "cell_type": "markdown",
      "source": [
        "O RobustScaler é um método de pré-processamento usado para dimensionar os recursos (features) de um conjunto de dados. Ele escala os recursos para que eles tenham uma média zero e uma variância que não seja afetada por valores discrepantes (outliers).\n",
        "\n",
        "O RobustScaler é uma opção robusta para lidar com valores discrepantes em conjuntos de dados, pois ele usa a mediana em vez da média para centrar os dados. Dessa forma, os valores discrepantes têm menos influência sobre a escala dos recursos.\n",
        "\n",
        "Depois de criar o objeto RobustScaler, ele pode ser usado para transformar os dados de treinamento e teste antes de ajustar um modelo de machine learning. Isso ajuda a garantir que os recursos estejam na mesma escala e que o modelo seja mais robusto a valores discrepantes."
      ],
      "metadata": {
        "id": "RTszMW758h1o"
      }
    },
    {
      "cell_type": "code",
      "source": [
        "# Aplicando o RobustScaler aos dados\n",
        "robust_sc.fit(data_rs)\n",
        "robust_sc.transform(data_rs)"
      ],
      "metadata": {
        "colab": {
          "base_uri": "https://localhost:8080/"
        },
        "id": "CsI27RwqIGHS",
        "outputId": "a1f5a8eb-f01c-47b1-a2c5-0549d84fca79"
      },
      "execution_count": null,
      "outputs": [
        {
          "output_type": "execute_result",
          "data": {
            "text/plain": [
              "array([[ 1.45299115e+00,  1.11117515e+00, -1.40721633e-01, ...,\n",
              "         1.34314751e+00,  0.00000000e+00,  0.00000000e+00],\n",
              "       [ 6.56104787e-02,  1.34374973e-01, -1.40721633e-01, ...,\n",
              "         1.42159758e+00,  0.00000000e+00,  0.00000000e+00],\n",
              "       [-1.30708448e-01,  0.00000000e+00, -1.40721633e-01, ...,\n",
              "         8.07763750e-03, -1.00000000e+00,  0.00000000e+00],\n",
              "       ...,\n",
              "       [ 5.86795044e+01,  0.00000000e+00, -6.80957851e-02, ...,\n",
              "        -3.53931800e-01, -2.00000000e+00,  1.00000000e+00],\n",
              "       [ 7.78822305e+00,  0.00000000e+00, -1.40721633e-01, ...,\n",
              "        -1.22951341e-01, -2.00000000e+00,  1.00000000e+00],\n",
              "       [ 7.78822305e+00,  0.00000000e+00,  6.76261422e+00, ...,\n",
              "         1.11734827e-01, -2.00000000e+00,  1.00000000e+00]])"
            ]
          },
          "metadata": {},
          "execution_count": 31
        }
      ]
    },
    {
      "cell_type": "code",
      "source": [
        "# Transformando o resultado em um dataframe\n",
        "data_rs = pd.DataFrame(robust_sc.transform(data_rs),columns=data_rs.columns)\n",
        "# Mostrando o dataset resultante \n",
        "data_rs.head(3)"
      ],
      "metadata": {
        "colab": {
          "base_uri": "https://localhost:8080/",
          "height": 207
        },
        "id": "2YVszwdrIHYM",
        "outputId": "00567fe3-e873-4108-e05c-703d6fd03822"
      },
      "execution_count": null,
      "outputs": [
        {
          "output_type": "execute_result",
          "data": {
            "text/plain": [
              "   oldbalanceOrg  newbalanceOrig  oldbalanceDest  newbalanceDest  \\\n",
              "0        1.45299         1.11118        -0.14072        -0.19306   \n",
              "1        0.06561         0.13437        -0.14072        -0.19306   \n",
              "2       -0.13071         0.00000        -0.14072        -0.19306   \n",
              "\n",
              "   isFlaggedFraud  type_encode  nameOrig_encode  nameDest_encode  \\\n",
              "0         0.00000      1.00000         -0.76142          1.34315   \n",
              "1         0.00000      1.00000         -0.31091          1.42160   \n",
              "2         0.00000      1.50000         -0.68452          0.00808   \n",
              "\n",
              "   transfer_amount_category_encode  step_category_encode  \n",
              "0                          0.00000               0.00000  \n",
              "1                          0.00000               0.00000  \n",
              "2                         -1.00000               0.00000  "
            ],
            "text/html": [
              "\n",
              "  <div id=\"df-0a1d651e-c41a-4282-b534-65fea2344766\">\n",
              "    <div class=\"colab-df-container\">\n",
              "      <div>\n",
              "<style scoped>\n",
              "    .dataframe tbody tr th:only-of-type {\n",
              "        vertical-align: middle;\n",
              "    }\n",
              "\n",
              "    .dataframe tbody tr th {\n",
              "        vertical-align: top;\n",
              "    }\n",
              "\n",
              "    .dataframe thead th {\n",
              "        text-align: right;\n",
              "    }\n",
              "</style>\n",
              "<table border=\"1\" class=\"dataframe\">\n",
              "  <thead>\n",
              "    <tr style=\"text-align: right;\">\n",
              "      <th></th>\n",
              "      <th>oldbalanceOrg</th>\n",
              "      <th>newbalanceOrig</th>\n",
              "      <th>oldbalanceDest</th>\n",
              "      <th>newbalanceDest</th>\n",
              "      <th>isFlaggedFraud</th>\n",
              "      <th>type_encode</th>\n",
              "      <th>nameOrig_encode</th>\n",
              "      <th>nameDest_encode</th>\n",
              "      <th>transfer_amount_category_encode</th>\n",
              "      <th>step_category_encode</th>\n",
              "    </tr>\n",
              "  </thead>\n",
              "  <tbody>\n",
              "    <tr>\n",
              "      <th>0</th>\n",
              "      <td>1.45299</td>\n",
              "      <td>1.11118</td>\n",
              "      <td>-0.14072</td>\n",
              "      <td>-0.19306</td>\n",
              "      <td>0.00000</td>\n",
              "      <td>1.00000</td>\n",
              "      <td>-0.76142</td>\n",
              "      <td>1.34315</td>\n",
              "      <td>0.00000</td>\n",
              "      <td>0.00000</td>\n",
              "    </tr>\n",
              "    <tr>\n",
              "      <th>1</th>\n",
              "      <td>0.06561</td>\n",
              "      <td>0.13437</td>\n",
              "      <td>-0.14072</td>\n",
              "      <td>-0.19306</td>\n",
              "      <td>0.00000</td>\n",
              "      <td>1.00000</td>\n",
              "      <td>-0.31091</td>\n",
              "      <td>1.42160</td>\n",
              "      <td>0.00000</td>\n",
              "      <td>0.00000</td>\n",
              "    </tr>\n",
              "    <tr>\n",
              "      <th>2</th>\n",
              "      <td>-0.13071</td>\n",
              "      <td>0.00000</td>\n",
              "      <td>-0.14072</td>\n",
              "      <td>-0.19306</td>\n",
              "      <td>0.00000</td>\n",
              "      <td>1.50000</td>\n",
              "      <td>-0.68452</td>\n",
              "      <td>0.00808</td>\n",
              "      <td>-1.00000</td>\n",
              "      <td>0.00000</td>\n",
              "    </tr>\n",
              "  </tbody>\n",
              "</table>\n",
              "</div>\n",
              "      <button class=\"colab-df-convert\" onclick=\"convertToInteractive('df-0a1d651e-c41a-4282-b534-65fea2344766')\"\n",
              "              title=\"Convert this dataframe to an interactive table.\"\n",
              "              style=\"display:none;\">\n",
              "        \n",
              "  <svg xmlns=\"http://www.w3.org/2000/svg\" height=\"24px\"viewBox=\"0 0 24 24\"\n",
              "       width=\"24px\">\n",
              "    <path d=\"M0 0h24v24H0V0z\" fill=\"none\"/>\n",
              "    <path d=\"M18.56 5.44l.94 2.06.94-2.06 2.06-.94-2.06-.94-.94-2.06-.94 2.06-2.06.94zm-11 1L8.5 8.5l.94-2.06 2.06-.94-2.06-.94L8.5 2.5l-.94 2.06-2.06.94zm10 10l.94 2.06.94-2.06 2.06-.94-2.06-.94-.94-2.06-.94 2.06-2.06.94z\"/><path d=\"M17.41 7.96l-1.37-1.37c-.4-.4-.92-.59-1.43-.59-.52 0-1.04.2-1.43.59L10.3 9.45l-7.72 7.72c-.78.78-.78 2.05 0 2.83L4 21.41c.39.39.9.59 1.41.59.51 0 1.02-.2 1.41-.59l7.78-7.78 2.81-2.81c.8-.78.8-2.07 0-2.86zM5.41 20L4 18.59l7.72-7.72 1.47 1.35L5.41 20z\"/>\n",
              "  </svg>\n",
              "      </button>\n",
              "      \n",
              "  <style>\n",
              "    .colab-df-container {\n",
              "      display:flex;\n",
              "      flex-wrap:wrap;\n",
              "      gap: 12px;\n",
              "    }\n",
              "\n",
              "    .colab-df-convert {\n",
              "      background-color: #E8F0FE;\n",
              "      border: none;\n",
              "      border-radius: 50%;\n",
              "      cursor: pointer;\n",
              "      display: none;\n",
              "      fill: #1967D2;\n",
              "      height: 32px;\n",
              "      padding: 0 0 0 0;\n",
              "      width: 32px;\n",
              "    }\n",
              "\n",
              "    .colab-df-convert:hover {\n",
              "      background-color: #E2EBFA;\n",
              "      box-shadow: 0px 1px 2px rgba(60, 64, 67, 0.3), 0px 1px 3px 1px rgba(60, 64, 67, 0.15);\n",
              "      fill: #174EA6;\n",
              "    }\n",
              "\n",
              "    [theme=dark] .colab-df-convert {\n",
              "      background-color: #3B4455;\n",
              "      fill: #D2E3FC;\n",
              "    }\n",
              "\n",
              "    [theme=dark] .colab-df-convert:hover {\n",
              "      background-color: #434B5C;\n",
              "      box-shadow: 0px 1px 3px 1px rgba(0, 0, 0, 0.15);\n",
              "      filter: drop-shadow(0px 1px 2px rgba(0, 0, 0, 0.3));\n",
              "      fill: #FFFFFF;\n",
              "    }\n",
              "  </style>\n",
              "\n",
              "      <script>\n",
              "        const buttonEl =\n",
              "          document.querySelector('#df-0a1d651e-c41a-4282-b534-65fea2344766 button.colab-df-convert');\n",
              "        buttonEl.style.display =\n",
              "          google.colab.kernel.accessAllowed ? 'block' : 'none';\n",
              "\n",
              "        async function convertToInteractive(key) {\n",
              "          const element = document.querySelector('#df-0a1d651e-c41a-4282-b534-65fea2344766');\n",
              "          const dataTable =\n",
              "            await google.colab.kernel.invokeFunction('convertToInteractive',\n",
              "                                                     [key], {});\n",
              "          if (!dataTable) return;\n",
              "\n",
              "          const docLinkHtml = 'Like what you see? Visit the ' +\n",
              "            '<a target=\"_blank\" href=https://colab.research.google.com/notebooks/data_table.ipynb>data table notebook</a>'\n",
              "            + ' to learn more about interactive tables.';\n",
              "          element.innerHTML = '';\n",
              "          dataTable['output_type'] = 'display_data';\n",
              "          await google.colab.output.renderOutput(dataTable, element);\n",
              "          const docLink = document.createElement('div');\n",
              "          docLink.innerHTML = docLinkHtml;\n",
              "          element.appendChild(docLink);\n",
              "        }\n",
              "      </script>\n",
              "    </div>\n",
              "  </div>\n",
              "  "
            ]
          },
          "metadata": {},
          "execution_count": 32
        }
      ]
    },
    {
      "cell_type": "markdown",
      "source": [
        "### Modelagem"
      ],
      "metadata": {
        "id": "F9hmb86FIWMb"
      }
    },
    {
      "cell_type": "markdown",
      "source": [
        "#### Split - Treino / Teste"
      ],
      "metadata": {
        "id": "nyufYgCSIi3i"
      }
    },
    {
      "cell_type": "code",
      "source": [
        "# Separa os Dataframe em dados de treino e teste para o modelo\n",
        "%%time\n",
        "# Define X como o Dataframe \"data_rs\"\n",
        "X = data_rs\n",
        "# Define y como a coluna \"isFraud\" (variável target) do Dataframe \"data\"\n",
        "y = data[\"isFraud\"]\n",
        "# Função   train_test_split do módulo sklearn.model_selection para dividir os dados em conjuntos de treinamento e teste\n",
        "X_train, X_test, y_train, y_test = train_test_split(X, y,\n",
        "                                                    test_size = 0.33,  # O conjunto de teste é definido como 33% do tamanho total dos dados\n",
        "                                                    stratify=y,        # A opção \"stratify=y\" garante que a proporção de classes positivas e negativas seja mantida nos conjuntos de treinamento e teste\n",
        "                                                    random_state = 42) # A opção \"random_state=42\" garante que a divisão dos dados seja reproduzível\n",
        "# Converte X_train e X_test para o tipo de dados np.float32, que é comumente usado para cálculos numéricos em modelos de machine learning\n",
        "X_train = X_train.astype(np.float32)\n",
        "X_test = X_test.astype(np.float32)"
      ],
      "metadata": {
        "colab": {
          "base_uri": "https://localhost:8080/"
        },
        "id": "vsk--bnIILBN",
        "outputId": "d50aec11-449f-4de4-8a55-964955f18492"
      },
      "execution_count": null,
      "outputs": [
        {
          "output_type": "stream",
          "name": "stdout",
          "text": [
            "CPU times: user 2.93 s, sys: 404 ms, total: 3.34 s\n",
            "Wall time: 3.34 s\n"
          ]
        }
      ]
    },
    {
      "cell_type": "markdown",
      "source": [
        "#### Regressão Logística"
      ],
      "metadata": {
        "id": "ZFj3iadiIcDz"
      }
    },
    {
      "cell_type": "code",
      "source": [
        "%%time\n",
        "# Iniciando contagem do tempo do modelo\n",
        "tempo_inic_rl = time.time()\n",
        "# Criando o modelo Regressão Logistica\n",
        "rl = cpu_LogisticRegression()   \n",
        "# Treinamento do modelo Regressão Logistica\n",
        "rl.fit(X_train, y_train) \n",
        "# Predições\n",
        "y_pred_rl = rl.predict(X_test)\n",
        "# Finalizando contagem do tempo do modelo\n",
        "tempo_final_rl = time.time()\n",
        "# Calculo do tempo de de execução da Regressão Logística\n",
        "tempo_total_rl = tempo_final_rl - tempo_inic_rl"
      ],
      "metadata": {
        "colab": {
          "base_uri": "https://localhost:8080/"
        },
        "id": "NxKFu1i6IZsi",
        "outputId": "d2dd2936-36f3-4fa6-882c-48ab77493d40"
      },
      "execution_count": null,
      "outputs": [
        {
          "output_type": "stream",
          "name": "stdout",
          "text": [
            "CPU times: user 54.4 s, sys: 15 s, total: 1min 9s\n",
            "Wall time: 43.7 s\n"
          ]
        }
      ]
    },
    {
      "cell_type": "code",
      "source": [
        "%%time\n",
        "# Probabilidades de classe positiva\n",
        "y_prob_rl = rl.predict_proba(X_test)[:, 1]\n"
      ],
      "metadata": {
        "colab": {
          "base_uri": "https://localhost:8080/"
        },
        "id": "3xXKI2MjIrx7",
        "outputId": "a1801093-e692-4f63-d5c7-78a47b5f4eed"
      },
      "execution_count": null,
      "outputs": [
        {
          "output_type": "stream",
          "name": "stdout",
          "text": [
            "CPU times: user 166 ms, sys: 108 ms, total: 274 ms\n",
            "Wall time: 193 ms\n"
          ]
        }
      ]
    },
    {
      "cell_type": "code",
      "source": [
        "%%time\n",
        "# Calculando a precisão da Regressão Logística\n",
        "precision_rl = precision_score(y_test, y_pred_rl)\n",
        "# Calculando a sensibilidade (recall) da Regressão Logística\n",
        "recall_rl = recall_score(y_test, y_pred_rl)\n",
        "# Calculando a Acurácia da Regressão Logística\n",
        "acc_rl = cpu_accuracy_score(y_test, y_pred_rl)\n",
        "# Calculando as métricas do modelo (Acurácia, Precisão, Sensibilidade e Matriz de confusão) da Regressão Logística\n",
        "print(\"Acurácia: \", acc_rl)\n",
        "print(\"Precisão: \", precision_rl)\n",
        "print(\"Sensibilidade: \", recall_rl)\n",
        "print(\"Matriz de confusão: \", cpu_confusion_matrix(y_test, y_pred_rl))"
      ],
      "metadata": {
        "colab": {
          "base_uri": "https://localhost:8080/"
        },
        "id": "gIpKTkAPIs-0",
        "outputId": "04350d98-6ab3-48b6-ba96-c5c4279a5a9c"
      },
      "execution_count": null,
      "outputs": [
        {
          "output_type": "stream",
          "name": "stdout",
          "text": [
            "Acurácia:  0.9992298771470687\n",
            "Precisão:  0.8782006920415225\n",
            "Sensibilidade:  0.46826568265682655\n",
            "Matriz de confusão:  [[2096779     176]\n",
            " [   1441    1269]]\n",
            "CPU times: user 2.23 s, sys: 177 ms, total: 2.41 s\n",
            "Wall time: 2.44 s\n"
          ]
        }
      ]
    },
    {
      "cell_type": "code",
      "source": [
        "%%time\n",
        "# Calculando a matriz de concussão da Regressão Logística\n",
        "cm = cpu_confusion_matrix(y_test, y_pred_rl)\n",
        "disp = ConfusionMatrixDisplay(confusion_matrix = cm, display_labels=['não fraude', 'fraude'])\n",
        "_ = disp.plot(values_format='d') "
      ],
      "metadata": {
        "colab": {
          "base_uri": "https://localhost:8080/",
          "height": 325
        },
        "id": "uK7PibcRnepC",
        "outputId": "7b83c79b-d7e6-4178-afe4-a2bedac8d249"
      },
      "execution_count": null,
      "outputs": [
        {
          "output_type": "stream",
          "name": "stdout",
          "text": [
            "CPU times: user 556 ms, sys: 19.3 ms, total: 575 ms\n",
            "Wall time: 1.39 s\n"
          ]
        },
        {
          "output_type": "display_data",
          "data": {
            "text/plain": [
              "<Figure size 432x288 with 2 Axes>"
            ],
            "image/png": "[encoded data removed]"
          },
          "metadata": {
            "needs_background": "light"
          }
        }
      ]
    },
    {
      "cell_type": "markdown",
      "source": [
        "Os resultados de cada modelo utilizado serão comparados em uma matriz de decisão ao final dos cálculos desta etapa."
      ],
      "metadata": {
        "id": "ceVHwValAJZf"
      }
    },
    {
      "cell_type": "markdown",
      "source": [
        "#### Random Forest"
      ],
      "metadata": {
        "id": "r9TTdCTzJVPS"
      }
    },
    {
      "cell_type": "code",
      "source": [
        "%%time\n",
        "# Iniciando contagem do tempo do modelo\n",
        "tempo_inic_rf = time.time()\n",
        "# Criando o modelo Random Forest\n",
        "rf = RandomForestClassifier(n_estimators = 5, random_state = 42)   \n",
        "# Treinamento do modelo Random Forest\n",
        "rf.fit(X_train, y_train) \n",
        "# Finalizando contagem do tempo do modelo\n",
        "tempo_final_rf = time.time()\n",
        "# Calculo do tempo de de execução do Random Forest\n",
        "tempo_total_rf = tempo_final_rf- tempo_inic_rf"
      ],
      "metadata": {
        "colab": {
          "base_uri": "https://localhost:8080/"
        },
        "id": "CFHZN0ybJG7z",
        "outputId": "34822ed5-21aa-4d51-906b-1aa9e5d7b5cf"
      },
      "execution_count": null,
      "outputs": [
        {
          "output_type": "stream",
          "name": "stdout",
          "text": [
            "CPU times: user 1min 10s, sys: 1.19 s, total: 1min 11s\n",
            "Wall time: 1min 12s\n"
          ]
        }
      ]
    },
    {
      "cell_type": "code",
      "source": [
        "%%time\n",
        "# Predições\n",
        "y_pred_rf = rf.predict(X_test) "
      ],
      "metadata": {
        "colab": {
          "base_uri": "https://localhost:8080/"
        },
        "id": "68l_H8rCJZf6",
        "outputId": "75e20fec-4300-422f-e515-6ed4d7b9d0e8"
      },
      "execution_count": null,
      "outputs": [
        {
          "output_type": "stream",
          "name": "stdout",
          "text": [
            "CPU times: user 1.05 s, sys: 60.8 ms, total: 1.12 s\n",
            "Wall time: 1.11 s\n"
          ]
        }
      ]
    },
    {
      "cell_type": "code",
      "source": [
        "%%time\n",
        "# Calculando a precisão do Random Forest\n",
        "precision_rf = precision_score(y_test, y_pred_rf)\n",
        "# Calculando a sensibilidade (recall) do Random Forest\n",
        "recall_rf = recall_score(y_test, y_pred_rf)\n",
        "# Calculando a acurácia do Random Forest\n",
        "acc_rf = cpu_accuracy_score(y_test, y_pred_rf)\n",
        "# Calculando as métricas do modelo (Acurácia, Precisão, Sensibilidade e Matriz de confusão) do Random Forest\n",
        "print(\"Acurácia: \", acc_rf)\n",
        "print(\"Precisão: \", precision_rf)\n",
        "print(\"Sensibilidade: \", recall_rf)\n",
        "print(\"Matriz de confusão: \", cpu_confusion_matrix(y_test, y_pred_rf))"
      ],
      "metadata": {
        "colab": {
          "base_uri": "https://localhost:8080/"
        },
        "id": "lUIsphKDJjgG",
        "outputId": "62500d76-cd17-49f7-94ae-0e02f74b2df6"
      },
      "execution_count": null,
      "outputs": [
        {
          "output_type": "stream",
          "name": "stdout",
          "text": [
            "Acurácia:  0.9996275596345131\n",
            "Precisão:  0.9496268656716418\n",
            "Sensibilidade:  0.7512915129151292\n",
            "Matriz de confusão:  [[2096847     108]\n",
            " [    674    2036]]\n",
            "CPU times: user 2.15 s, sys: 70.7 ms, total: 2.22 s\n",
            "Wall time: 2.21 s\n"
          ]
        }
      ]
    },
    {
      "cell_type": "code",
      "source": [
        "# Calculando a matriz de concussão do Random Forest\n",
        "%%time\n",
        "cm = cpu_confusion_matrix(y_test, y_pred_rf)\n",
        "disp = ConfusionMatrixDisplay(confusion_matrix = cm, display_labels=['não fraude', 'fraude'])\n",
        "_ = disp.plot(values_format='d') "
      ],
      "metadata": {
        "colab": {
          "base_uri": "https://localhost:8080/",
          "height": 325
        },
        "id": "QlnVVvG4JshB",
        "outputId": "2f0b63fe-74c1-48ae-d480-cafea89f9381"
      },
      "execution_count": null,
      "outputs": [
        {
          "output_type": "stream",
          "name": "stdout",
          "text": [
            "CPU times: user 483 ms, sys: 14.5 ms, total: 498 ms\n",
            "Wall time: 522 ms\n"
          ]
        },
        {
          "output_type": "display_data",
          "data": {
            "text/plain": [
              "<Figure size 432x288 with 2 Axes>"
            ],
            "image/png": "[encoded data removed]"
          },
          "metadata": {
            "needs_background": "light"
          }
        }
      ]
    },
    {
      "cell_type": "markdown",
      "source": [
        "Os resultados de cada modelo utilizado serão comparados em uma matriz de decisão ao final dos cálculos desta etapa."
      ],
      "metadata": {
        "id": "Db7JJ5yIA2u_"
      }
    },
    {
      "cell_type": "markdown",
      "source": [
        "#### XGBoost"
      ],
      "metadata": {
        "id": "YdklMrIYKNeO"
      }
    },
    {
      "cell_type": "code",
      "source": [
        "%%time\n",
        "# Parametrização do XGBoost\n",
        "params = {'learning_rate': 0.1,\n",
        "          'colsample_bytree' : 0.3,\n",
        "          'max_depth': 5,\n",
        "          'objective': 'binary:logistic',\n",
        "          'alpha' : 10,\n",
        "          'n_estimators': 100}\n",
        "# Iniciando contagem do tempo do modelo\n",
        "tempo_inic_xgb = time.time()\n",
        "# Treinamento do modelo XGBoost\n",
        "xgb_trained_model = XGBClassifier(**params)\n",
        "xgb_trained_model.fit(X_train, y_train, eval_set=[(X_train, y_train), (X_test, y_test)],\n",
        "                      eval_metric='auc', verbose=False)\n",
        "# Predições\n",
        "y_pred_xgb = xgb_trained_model.predict(X_test) \n",
        "# Finalizando contagem do tempo do modelo\n",
        "tempo_final_xgb = time.time()\n",
        "# Calculo do tempo de de execução do XGBoost\n",
        "tempo_total_xgb = tempo_final_xgb - tempo_inic_xgb"
      ],
      "metadata": {
        "colab": {
          "base_uri": "https://localhost:8080/"
        },
        "id": "uhrdLl4XJ1Fe",
        "outputId": "153312e6-bb26-41d8-9f04-b0f8a9bb8908"
      },
      "execution_count": null,
      "outputs": [
        {
          "output_type": "stream",
          "name": "stdout",
          "text": [
            "CPU times: user 13min 14s, sys: 18.5 s, total: 13min 32s\n",
            "Wall time: 8min 1s\n"
          ]
        }
      ]
    },
    {
      "cell_type": "code",
      "source": [
        "%%time\n",
        "# Calculando a precisão do XGBoost\n",
        "precision_xgb = precision_score(y_test, y_pred_xgb)\n",
        "# Calculando a sensibilidade (recall) do XGBoost\n",
        "recall_xgb = recall_score(y_test, y_pred_xgb)\n",
        "# Calculando a acurácia do XGBoost\n",
        "acc_xgb = cpu_accuracy_score(y_test, y_pred_xgb)\n",
        "# Calculando as métricas do modelo (Acurácia, Matriz de confusão) do XGBoost\n",
        "print(\"Acurácia: \", acc_xgb)\n",
        "print(\"Precisão: \", precision_xgb)\n",
        "print(\"Sensibilidade: \", recall_xgb)\n",
        "print(\"Matriz de confusão: \", cpu_confusion_matrix(y_test, y_pred_xgb))"
      ],
      "metadata": {
        "colab": {
          "base_uri": "https://localhost:8080/"
        },
        "id": "c6vXJixpK3Xb",
        "outputId": "bc899fba-0d17-4230-fa07-43efb2b6fb99"
      },
      "execution_count": null,
      "outputs": [
        {
          "output_type": "stream",
          "name": "stdout",
          "text": [
            "Acurácia:  0.9994256226588527\n",
            "Precisão:  0.9953886693017128\n",
            "Sensibilidade:  0.5575645756457565\n",
            "Matriz de confusão:  [[2096948       7]\n",
            " [   1199    1511]]\n",
            "CPU times: user 2.93 s, sys: 80.1 ms, total: 3.01 s\n",
            "Wall time: 5.13 s\n"
          ]
        }
      ]
    },
    {
      "cell_type": "code",
      "source": [
        "# Calculando a matriz de concussão do XGBoost\n",
        "%%time\n",
        "cm = cpu_confusion_matrix(y_test, y_pred_xgb.astype(np.int64))\n",
        "disp = ConfusionMatrixDisplay(confusion_matrix = cm, display_labels=['não fraude', 'fraude'])\n",
        "_ = disp.plot(values_format='d') "
      ],
      "metadata": {
        "colab": {
          "base_uri": "https://localhost:8080/",
          "height": 325
        },
        "id": "JN0fLY1eLtSS",
        "outputId": "bcac2315-660a-408f-a945-f9f130d19b95"
      },
      "execution_count": null,
      "outputs": [
        {
          "output_type": "stream",
          "name": "stdout",
          "text": [
            "CPU times: user 523 ms, sys: 19.8 ms, total: 543 ms\n",
            "Wall time: 723 ms\n"
          ]
        },
        {
          "output_type": "display_data",
          "data": {
            "text/plain": [
              "<Figure size 432x288 with 2 Axes>"
            ],
            "image/png": "[encoded data removed]"
          },
          "metadata": {
            "needs_background": "light"
          }
        }
      ]
    },
    {
      "cell_type": "markdown",
      "source": [
        "Os resultados de cada modelo utilizado serão comparados em uma matriz de decisão ao final dos cálculos desta etapa."
      ],
      "metadata": {
        "id": "OEd8_QuBA6L3"
      }
    },
    {
      "cell_type": "markdown",
      "source": [
        "#### Matriz de Decisão"
      ],
      "metadata": {
        "id": "2pYcKVss9RUC"
      }
    },
    {
      "cell_type": "code",
      "source": [
        "# Cria um dicionário a partir dos valores das métricas de cada modelo testado\n",
        "modelos_dic = {\n",
        "    # Valores das métricas da Regressão Logística\n",
        "    \"Regresão Logistica\":{\n",
        "        \"Acurácia\": acc_rl.round(5),\n",
        "        \"Precision\": precision_rl.round(5),\n",
        "        \"Recall\": recall_rl.round(5),\n",
        "        \"Execução (s)\": round(tempo_total_rl, 5)\n",
        "    },\n",
        "    # Valores das métricas do Random Forest\n",
        "    \"Random Forest\":{\n",
        "        \"Acurácia\": acc_rf.round(5),\n",
        "        \"Precision\": precision_rf.round(5),\n",
        "        \"Recall\": recall_rf.round(5),\n",
        "        \"Execução (s)\": round(tempo_total_rf, 5)\n",
        "    },\n",
        "    # Valores das métricas do XGBoost\n",
        "    \"XGBoost\":{\n",
        "        \"Acurácia\": acc_xgb.round(5),\n",
        "        \"Precision\": precision_xgb.round(5),\n",
        "        \"Recall\": recall_xgb.round(5),\n",
        "        \"Execução (s)\": round(tempo_total_xgb, 5)\n",
        "    }   \n",
        "}"
      ],
      "metadata": {
        "id": "jATzsLEZ9sxq"
      },
      "execution_count": null,
      "outputs": []
    },
    {
      "cell_type": "code",
      "source": [
        "# Transforma o dicionário em um Dataframe chamado \"modelos_sumario\"\n",
        "modelos_sumario = pd.DataFrame(modelos_dic)"
      ],
      "metadata": {
        "id": "CAeuGqT69w6T"
      },
      "execution_count": null,
      "outputs": []
    },
    {
      "cell_type": "code",
      "source": [
        "# Ordena os resultados pela métrica de precisão (definida como importante para a solução) e exibe a tabela\n",
        "resultado_modelos = modelos_sumario.T.sort_values(by = 'Precision', ascending = False)\n",
        "resultado_modelos"
      ],
      "metadata": {
        "colab": {
          "base_uri": "https://localhost:8080/",
          "height": 143
        },
        "id": "DP0uoMj99zh8",
        "outputId": "cd88181f-7c8c-4bd0-a231-8a9fa3726c06"
      },
      "execution_count": null,
      "outputs": [
        {
          "output_type": "execute_result",
          "data": {
            "text/plain": [
              "                    Acurácia  Precision  Recall  Execução (s)\n",
              "XGBoost              0.99943    0.99539 0.55756     481.85277\n",
              "Random Forest        0.99963    0.94963 0.75129      72.45937\n",
              "Regresão Logistica   0.99923    0.87820 0.46827      43.70723"
            ],
            "text/html": [
              "\n",
              "  <div id=\"df-e3261e09-5437-4195-80d0-54d80e620109\">\n",
              "    <div class=\"colab-df-container\">\n",
              "      <div>\n",
              "<style scoped>\n",
              "    .dataframe tbody tr th:only-of-type {\n",
              "        vertical-align: middle;\n",
              "    }\n",
              "\n",
              "    .dataframe tbody tr th {\n",
              "        vertical-align: top;\n",
              "    }\n",
              "\n",
              "    .dataframe thead th {\n",
              "        text-align: right;\n",
              "    }\n",
              "</style>\n",
              "<table border=\"1\" class=\"dataframe\">\n",
              "  <thead>\n",
              "    <tr style=\"text-align: right;\">\n",
              "      <th></th>\n",
              "      <th>Acurácia</th>\n",
              "      <th>Precision</th>\n",
              "      <th>Recall</th>\n",
              "      <th>Execução (s)</th>\n",
              "    </tr>\n",
              "  </thead>\n",
              "  <tbody>\n",
              "    <tr>\n",
              "      <th>XGBoost</th>\n",
              "      <td>0.99943</td>\n",
              "      <td>0.99539</td>\n",
              "      <td>0.55756</td>\n",
              "      <td>481.85277</td>\n",
              "    </tr>\n",
              "    <tr>\n",
              "      <th>Random Forest</th>\n",
              "      <td>0.99963</td>\n",
              "      <td>0.94963</td>\n",
              "      <td>0.75129</td>\n",
              "      <td>72.45937</td>\n",
              "    </tr>\n",
              "    <tr>\n",
              "      <th>Regresão Logistica</th>\n",
              "      <td>0.99923</td>\n",
              "      <td>0.87820</td>\n",
              "      <td>0.46827</td>\n",
              "      <td>43.70723</td>\n",
              "    </tr>\n",
              "  </tbody>\n",
              "</table>\n",
              "</div>\n",
              "      <button class=\"colab-df-convert\" onclick=\"convertToInteractive('df-e3261e09-5437-4195-80d0-54d80e620109')\"\n",
              "              title=\"Convert this dataframe to an interactive table.\"\n",
              "              style=\"display:none;\">\n",
              "        \n",
              "  <svg xmlns=\"http://www.w3.org/2000/svg\" height=\"24px\"viewBox=\"0 0 24 24\"\n",
              "       width=\"24px\">\n",
              "    <path d=\"M0 0h24v24H0V0z\" fill=\"none\"/>\n",
              "    <path d=\"M18.56 5.44l.94 2.06.94-2.06 2.06-.94-2.06-.94-.94-2.06-.94 2.06-2.06.94zm-11 1L8.5 8.5l.94-2.06 2.06-.94-2.06-.94L8.5 2.5l-.94 2.06-2.06.94zm10 10l.94 2.06.94-2.06 2.06-.94-2.06-.94-.94-2.06-.94 2.06-2.06.94z\"/><path d=\"M17.41 7.96l-1.37-1.37c-.4-.4-.92-.59-1.43-.59-.52 0-1.04.2-1.43.59L10.3 9.45l-7.72 7.72c-.78.78-.78 2.05 0 2.83L4 21.41c.39.39.9.59 1.41.59.51 0 1.02-.2 1.41-.59l7.78-7.78 2.81-2.81c.8-.78.8-2.07 0-2.86zM5.41 20L4 18.59l7.72-7.72 1.47 1.35L5.41 20z\"/>\n",
              "  </svg>\n",
              "      </button>\n",
              "      \n",
              "  <style>\n",
              "    .colab-df-container {\n",
              "      display:flex;\n",
              "      flex-wrap:wrap;\n",
              "      gap: 12px;\n",
              "    }\n",
              "\n",
              "    .colab-df-convert {\n",
              "      background-color: #E8F0FE;\n",
              "      border: none;\n",
              "      border-radius: 50%;\n",
              "      cursor: pointer;\n",
              "      display: none;\n",
              "      fill: #1967D2;\n",
              "      height: 32px;\n",
              "      padding: 0 0 0 0;\n",
              "      width: 32px;\n",
              "    }\n",
              "\n",
              "    .colab-df-convert:hover {\n",
              "      background-color: #E2EBFA;\n",
              "      box-shadow: 0px 1px 2px rgba(60, 64, 67, 0.3), 0px 1px 3px 1px rgba(60, 64, 67, 0.15);\n",
              "      fill: #174EA6;\n",
              "    }\n",
              "\n",
              "    [theme=dark] .colab-df-convert {\n",
              "      background-color: #3B4455;\n",
              "      fill: #D2E3FC;\n",
              "    }\n",
              "\n",
              "    [theme=dark] .colab-df-convert:hover {\n",
              "      background-color: #434B5C;\n",
              "      box-shadow: 0px 1px 3px 1px rgba(0, 0, 0, 0.15);\n",
              "      filter: drop-shadow(0px 1px 2px rgba(0, 0, 0, 0.3));\n",
              "      fill: #FFFFFF;\n",
              "    }\n",
              "  </style>\n",
              "\n",
              "      <script>\n",
              "        const buttonEl =\n",
              "          document.querySelector('#df-e3261e09-5437-4195-80d0-54d80e620109 button.colab-df-convert');\n",
              "        buttonEl.style.display =\n",
              "          google.colab.kernel.accessAllowed ? 'block' : 'none';\n",
              "\n",
              "        async function convertToInteractive(key) {\n",
              "          const element = document.querySelector('#df-e3261e09-5437-4195-80d0-54d80e620109');\n",
              "          const dataTable =\n",
              "            await google.colab.kernel.invokeFunction('convertToInteractive',\n",
              "                                                     [key], {});\n",
              "          if (!dataTable) return;\n",
              "\n",
              "          const docLinkHtml = 'Like what you see? Visit the ' +\n",
              "            '<a target=\"_blank\" href=https://colab.research.google.com/notebooks/data_table.ipynb>data table notebook</a>'\n",
              "            + ' to learn more about interactive tables.';\n",
              "          element.innerHTML = '';\n",
              "          dataTable['output_type'] = 'display_data';\n",
              "          await google.colab.output.renderOutput(dataTable, element);\n",
              "          const docLink = document.createElement('div');\n",
              "          docLink.innerHTML = docLinkHtml;\n",
              "          element.appendChild(docLink);\n",
              "        }\n",
              "      </script>\n",
              "    </div>\n",
              "  </div>\n",
              "  "
            ]
          },
          "metadata": {},
          "execution_count": 78
        }
      ]
    },
    {
      "cell_type": "markdown",
      "source": [
        "O Regressão Logística é o nosso 'base line', ou seja, modelo mais simples que serviu como ponto de partida nas comparações. Observamos que, tanto o Random Forest como o XGBoost obtiveram valores superiores de precisão, e que poderiam ser escolhidos para seguirem neste projeto.\n",
        "\n",
        "Um ponto importante é, além de precisão, latência também é um aspecto importante na construção desta solução e, como podemos observar na tabela, o XGBoost tem um aumento considerável no seu tempo de execução.\n",
        "\n",
        "De toda forma nossa escolha será pelo modelo com maior desempenho pela métrica de precisão e, na continuidade deste trabalho, vamos buscar melhorar tanto precisão quanto latência (tempo de execução), através de técnicas como mudanças de parâmetros do modelo e utilização de GPU e computação paralela."
      ],
      "metadata": {
        "id": "k7JxsJI8BpK1"
      }
    },
    {
      "cell_type": "markdown",
      "source": [
        "#### Ajustando parâmetros XGBoost para melhorar a precisão"
      ],
      "metadata": {
        "id": "7hTv4RXJGK3M"
      }
    },
    {
      "cell_type": "markdown",
      "source": [
        "##### Número de estimadores"
      ],
      "metadata": {
        "id": "ZehUXQ_5Sqz-"
      }
    },
    {
      "cell_type": "code",
      "source": [
        "%%time\n",
        "# Parametrização do XGBoost - aumento do número de estimadores de 100 para 150\n",
        "params = {'learning_rate': 0.1,\n",
        "          'colsample_bytree' : 0.3,\n",
        "          'max_depth': 5,\n",
        "          'objective': 'binary:logistic',\n",
        "          'alpha' : 10,\n",
        "          'n_estimators': 150}\n",
        "# Iniciando contagem do tempo do modelo\n",
        "tempo_inic_xgb2 = time.time()\n",
        "# Treinamento do modelo XGBoost\n",
        "xgb_trained_model2 = XGBClassifier(**params)\n",
        "xgb_trained_model2.fit(X_train, y_train, eval_set=[(X_train, y_train), (X_test, y_test)],\n",
        "                      eval_metric='auc', verbose=False)\n",
        "# Predições\n",
        "y_pred_xgb2 = xgb_trained_model2.predict(X_test) \n",
        "# Finalizando contagem do tempo do modelo\n",
        "tempo_final_xgb2 = time.time()\n",
        "# Calculo do tempo de de execução do XGBoost\n",
        "tempo_total_xgb2 = tempo_final_xgb2 - tempo_inic_xgb2"
      ],
      "metadata": {
        "colab": {
          "base_uri": "https://localhost:8080/"
        },
        "id": "bd2cF-ZwGTGJ",
        "outputId": "828be428-10e6-4be3-834f-e6ef5d5535d4"
      },
      "execution_count": null,
      "outputs": [
        {
          "output_type": "stream",
          "name": "stdout",
          "text": [
            "CPU times: user 13min 11s, sys: 16.9 s, total: 13min 28s\n",
            "Wall time: 7min 44s\n"
          ]
        }
      ]
    },
    {
      "cell_type": "code",
      "source": [
        "%%time\n",
        "# Calculando a precisão do XGBoost\n",
        "precision_xgb2 = precision_score(y_test, y_pred_xgb2)\n",
        "# Calculando a sensibilidade (recall) do XGBoost\n",
        "recall_xgb2 = recall_score(y_test, y_pred_xgb2)\n",
        "# Calculando a acurácia do XGBoost\n",
        "acc_xgb2 = cpu_accuracy_score(y_test, y_pred_xgb2)\n",
        "# Calculando as métricas do modelo (Acurácia, Matriz de confusão) do XGBoost\n",
        "print(\"Acurácia: \", acc_xgb2)\n",
        "print(\"Precisão: \", precision_xgb2)\n",
        "print(\"Sensibilidade: \", recall_xgb2)\n",
        "print(\"Matriz de confusão: \", cpu_confusion_matrix(y_test, y_pred_xgb2))"
      ],
      "metadata": {
        "colab": {
          "base_uri": "https://localhost:8080/"
        },
        "id": "uuzowzNgGRb0",
        "outputId": "93044247-43d0-474f-e6ea-5d301cc93182"
      },
      "execution_count": null,
      "outputs": [
        {
          "output_type": "stream",
          "name": "stdout",
          "text": [
            "Acurácia:  0.9996027937790076\n",
            "Precisão:  0.9875259875259875\n",
            "Sensibilidade:  0.7011070110701108\n",
            "Matriz de confusão:  [[2096931      24]\n",
            " [    810    1900]]\n",
            "CPU times: user 1.44 s, sys: 46.1 ms, total: 1.48 s\n",
            "Wall time: 1.48 s\n"
          ]
        }
      ]
    },
    {
      "cell_type": "markdown",
      "source": [
        "O número de estimadores, não a precisão, melhorou apenas a sensibilidade e reduziu um pouco o tempo de execução do modelo. Portanto aumentar o número de estimadores, para este caso, não será o caminho adotado para seguirmos."
      ],
      "metadata": {
        "id": "yQJ3vFQzSt7z"
      }
    },
    {
      "cell_type": "markdown",
      "source": [
        "##### Taxa de aprendizado"
      ],
      "metadata": {
        "id": "RCGlYyE_TBde"
      }
    },
    {
      "cell_type": "code",
      "source": [
        "%%time\n",
        "# Parametrização do XGBoost - diminuição da taxa de aprendizado de 0.1 para 0.07\n",
        "params = {'learning_rate': 0.07,\n",
        "          'colsample_bytree' : 0.3,\n",
        "          'max_depth': 5,\n",
        "          'objective': 'binary:logistic',\n",
        "          'alpha' : 10,\n",
        "          'n_estimators': 100}\n",
        "# Iniciando contagem do tempo do modelo\n",
        "tempo_inic_xgb3 = time.time()\n",
        "# Treinamento do modelo XGBoost\n",
        "xgb_trained_model3 = XGBClassifier(**params)\n",
        "xgb_trained_model3.fit(X_train, y_train, eval_set=[(X_train, y_train), (X_test, y_test)],\n",
        "                      eval_metric='auc', verbose=False)\n",
        "# Predições\n",
        "y_pred_xgb3 = xgb_trained_model3.predict(X_test) \n",
        "# Finalizando contagem do tempo do modelo\n",
        "tempo_final_xgb3 = time.time()\n",
        "# Calculo do tempo de de execução do XGBoost\n",
        "tempo_total_xgb3 = tempo_final_xgb3 - tempo_inic_xgb3"
      ],
      "metadata": {
        "colab": {
          "base_uri": "https://localhost:8080/"
        },
        "id": "g-iBuPbjTPWa",
        "outputId": "1e08120b-46af-417b-f372-c1fd15c79970"
      },
      "execution_count": null,
      "outputs": [
        {
          "output_type": "stream",
          "name": "stdout",
          "text": [
            "CPU times: user 8min 2s, sys: 10.9 s, total: 8min 13s\n",
            "Wall time: 4min 37s\n"
          ]
        }
      ]
    },
    {
      "cell_type": "code",
      "source": [
        "%%time\n",
        "# Calculando a precisão do XGBoost\n",
        "precision_xgb3 = precision_score(y_test, y_pred_xgb3)\n",
        "# Calculando a sensibilidade (recall) do XGBoost\n",
        "recall_xgb3 = recall_score(y_test, y_pred_xgb3)\n",
        "# Calculando a acurácia do XGBoost\n",
        "acc_xgb3 = cpu_accuracy_score(y_test, y_pred_xgb3)\n",
        "# Calculando as métricas do modelo (Acurácia, Matriz de confusão) do XGBoost\n",
        "print(\"Acurácia: \", acc_xgb3)\n",
        "print(\"Precisão: \", precision_xgb3)\n",
        "print(\"Sensibilidade: \", recall_xgb3)\n",
        "print(\"Matriz de confusão: \", cpu_confusion_matrix(y_test, y_pred_xgb3))"
      ],
      "metadata": {
        "colab": {
          "base_uri": "https://localhost:8080/"
        },
        "id": "jthzhp_JTdhk",
        "outputId": "e0f9dd3d-043c-4b50-af80-f218f1cf1bf0"
      },
      "execution_count": null,
      "outputs": [
        {
          "output_type": "stream",
          "name": "stdout",
          "text": [
            "Acurácia:  0.9991660574424968\n",
            "Precisão:  0.9979231568016614\n",
            "Sensibilidade:  0.3546125461254613\n",
            "Matriz de confusão:  [[2096953       2]\n",
            " [   1749     961]]\n",
            "CPU times: user 1.45 s, sys: 55.9 ms, total: 1.51 s\n",
            "Wall time: 1.5 s\n"
          ]
        }
      ]
    },
    {
      "cell_type": "markdown",
      "source": [
        "Novamente obtivemos uma melhora na precisão para 99,79%, agora com uma redução de quase 50% do tempo de execução do modelo base do XGBoost inicial. Estes resultados indicam que a taxa de aprendizado pode ser um parâmetro interessante para testar a performance deste modelo."
      ],
      "metadata": {
        "id": "b63D2gzKVfC8"
      }
    },
    {
      "cell_type": "markdown",
      "source": [
        "##### Profundidade da árvore"
      ],
      "metadata": {
        "id": "3dthMRqYWBir"
      }
    },
    {
      "cell_type": "code",
      "source": [
        "%%time\n",
        "# Parametrização do XGBoost\n",
        "params = {'learning_rate': 0.1,\n",
        "          'colsample_bytree' : 0.3,\n",
        "          'max_depth': 10,\n",
        "          'objective': 'binary:logistic',\n",
        "          'alpha' : 10,\n",
        "          'n_estimators': 100}\n",
        "# Iniciando contagem do tempo do modelo\n",
        "tempo_inic_xgb4 = time.time()\n",
        "# Treinamento do modelo XGBoost\n",
        "xgb_trained_model4 = XGBClassifier(**params)\n",
        "xgb_trained_model4.fit(X_train, y_train, eval_set=[(X_train, y_train), (X_test, y_test)],\n",
        "                      eval_metric='auc', verbose=False)\n",
        "# Predições\n",
        "y_pred_xgb4 = xgb_trained_model4.predict(X_test) \n",
        "# Finalizando contagem do tempo do modelo\n",
        "tempo_final_xgb4 = time.time()\n",
        "# Calculo do tempo de de execução do XGBoost\n",
        "tempo_total_xgb4 = tempo_final_xgb4 - tempo_inic_xgb4"
      ],
      "metadata": {
        "colab": {
          "base_uri": "https://localhost:8080/"
        },
        "id": "rkP13FF6WG7E",
        "outputId": "da1abc87-04ac-473d-88ef-018fb2b29270"
      },
      "execution_count": null,
      "outputs": [
        {
          "output_type": "stream",
          "name": "stdout",
          "text": [
            "CPU times: user 8min 27s, sys: 9.47 s, total: 8min 36s\n",
            "Wall time: 4min 51s\n"
          ]
        }
      ]
    },
    {
      "cell_type": "code",
      "source": [
        "%%time\n",
        "# Calculando a precisão do XGBoost\n",
        "precision_xgb4 = precision_score(y_test, y_pred_xgb4)\n",
        "# Calculando a sensibilidade (recall) do XGBoost\n",
        "recall_xgb4 = recall_score(y_test, y_pred_xgb4)\n",
        "# Calculando a acurácia do XGBoost\n",
        "acc_xgb4 = cpu_accuracy_score(y_test, y_pred_xgb4)\n",
        "# Calculando as métricas do modelo (Acurácia, Matriz de confusão) do XGBoost\n",
        "print(\"Acurácia: \", acc_xgb4)\n",
        "print(\"Precisão: \", precision_xgb4)\n",
        "print(\"Sensibilidade: \", recall_xgb4)\n",
        "print(\"Matriz de confusão: \", cpu_confusion_matrix(y_test, y_pred_xgb4))"
      ],
      "metadata": {
        "colab": {
          "base_uri": "https://localhost:8080/"
        },
        "id": "n6_IXtmGWUAz",
        "outputId": "509a6fd3-575b-40ff-eb7f-e001dff0fa51"
      },
      "execution_count": null,
      "outputs": [
        {
          "output_type": "stream",
          "name": "stdout",
          "text": [
            "Acurácia:  0.9994280039911129\n",
            "Precisão:  0.9954038082731451\n",
            "Sensibilidade:  0.5594095940959409\n",
            "Matriz de confusão:  [[2096948       7]\n",
            " [   1194    1516]]\n",
            "CPU times: user 1.46 s, sys: 1.11 ms, total: 1.46 s\n",
            "Wall time: 1.46 s\n"
          ]
        }
      ]
    },
    {
      "cell_type": "markdown",
      "source": [
        "Apesar de pequena, tivemos uma piora tanto nas métricas de precisão como latência, indicando que este caminho não deva ser positivo para o desenvolvimento desta solução."
      ],
      "metadata": {
        "id": "-7GS6okMEW6m"
      }
    },
    {
      "cell_type": "markdown",
      "source": [
        "##### Colunas aleatórias"
      ],
      "metadata": {
        "id": "rNch9ktLWm_j"
      }
    },
    {
      "cell_type": "code",
      "source": [
        "%%time\n",
        "# Parametrização do XGBoost\n",
        "params = {'learning_rate': 0.1,\n",
        "          'colsample_bytree' : 0.5,\n",
        "          'max_depth': 5,\n",
        "          'objective': 'binary:logistic',\n",
        "          'alpha' : 10,\n",
        "          'n_estimators': 100}\n",
        "# Iniciando contagem do tempo do modelo\n",
        "tempo_inic_xgb5 = time.time()\n",
        "# Treinamento do modelo XGBoost\n",
        "xgb_trained_model5 = XGBClassifier(**params)\n",
        "xgb_trained_model5.fit(X_train, y_train, eval_set=[(X_train, y_train), (X_test, y_test)],\n",
        "                      eval_metric='auc', verbose=False)\n",
        "# Predições\n",
        "y_pred_xgb5 = xgb_trained_model5.predict(X_test) \n",
        "# Finalizando contagem do tempo do modelo\n",
        "tempo_final_xgb5 = time.time()\n",
        "# Calculo do tempo de de execução do XGBoost\n",
        "tempo_total_xgb5 = tempo_final_xgb5 - tempo_inic_xgb5"
      ],
      "metadata": {
        "id": "mqUM6th_WqxT",
        "colab": {
          "base_uri": "https://localhost:8080/"
        },
        "outputId": "5d8f5402-fe4a-4903-94d6-444a20a4e3b8"
      },
      "execution_count": null,
      "outputs": [
        {
          "output_type": "stream",
          "name": "stdout",
          "text": [
            "CPU times: user 8min 19s, sys: 10.9 s, total: 8min 29s\n",
            "Wall time: 4min 47s\n"
          ]
        }
      ]
    },
    {
      "cell_type": "code",
      "source": [
        "%%time\n",
        "# Calculando a precisão do XGBoost\n",
        "precision_xgb5 = precision_score(y_test, y_pred_xgb5)\n",
        "# Calculando a sensibilidade (recall) do XGBoost\n",
        "recall_xgb5 = recall_score(y_test, y_pred_xgb5)\n",
        "# Calculando a acurácia do XGBoost\n",
        "acc_xgb5 = cpu_accuracy_score(y_test, y_pred_xgb5)\n",
        "# Calculando as métricas do modelo (Acurácia, Matriz de confusão) do XGBoost\n",
        "print(\"Acurácia: \", acc_xgb5)\n",
        "print(\"Precisão: \", precision_xgb5)\n",
        "print(\"Sensibilidade: \", recall_xgb5)\n",
        "print(\"Matriz de confusão: \", cpu_confusion_matrix(y_test, y_pred_xgb5))"
      ],
      "metadata": {
        "id": "9X_ivHYbW31D",
        "colab": {
          "base_uri": "https://localhost:8080/"
        },
        "outputId": "c9b1a6fa-897b-402c-eb2c-2d640aa233e7"
      },
      "execution_count": null,
      "outputs": [
        {
          "output_type": "stream",
          "name": "stdout",
          "text": [
            "Acurácia:  0.9996227969699928\n",
            "Precisão:  0.977589641434263\n",
            "Sensibilidade:  0.7243542435424354\n",
            "Matriz de confusão:  [[2096910      45]\n",
            " [    747    1963]]\n",
            "CPU times: user 1.44 s, sys: 1.1 ms, total: 1.44 s\n",
            "Wall time: 1.43 s\n"
          ]
        }
      ]
    },
    {
      "cell_type": "markdown",
      "source": [
        "Apesar de pequena, tivemos uma piora na métrica de precisão e praticamente mantivemos o valor de latência, indicando que este caminho não deva ser positivo para o desenvolvimento desta solução."
      ],
      "metadata": {
        "id": "r0LbomrmEx4E"
      }
    },
    {
      "cell_type": "markdown",
      "source": [
        "##### Alpha"
      ],
      "metadata": {
        "id": "qSC-0n8dX6fE"
      }
    },
    {
      "cell_type": "code",
      "source": [
        "%%time\n",
        "# Parametrização do XGBoost\n",
        "params = {'learning_rate': 0.1,\n",
        "          'colsample_bytree' : 0.3,\n",
        "          'max_depth': 5,\n",
        "          'objective': 'binary:logistic',\n",
        "          'alpha' : 12,\n",
        "          'n_estimators': 100}\n",
        "# Iniciando contagem do tempo do modelo\n",
        "tempo_inic_xgb6 = time.time()\n",
        "# Treinamento do modelo XGBoost\n",
        "xgb_trained_model6 = XGBClassifier(**params)\n",
        "xgb_trained_model6.fit(X_train, y_train, eval_set=[(X_train, y_train), (X_test, y_test)],\n",
        "                      eval_metric='auc', verbose=False)\n",
        "# Predições\n",
        "y_pred_xgb6 = xgb_trained_model6.predict(X_test) \n",
        "# Finalizando contagem do tempo do modelo\n",
        "tempo_final_xgb6 = time.time()\n",
        "# Calculo do tempo de de execução do XGBoost\n",
        "tempo_total_xgb6 = tempo_final_xgb6 - tempo_inic_xgb6"
      ],
      "metadata": {
        "id": "nt3ISGrwYA5b",
        "colab": {
          "base_uri": "https://localhost:8080/"
        },
        "outputId": "ebb76873-5a5a-412d-9d54-d202c6f1a5c3"
      },
      "execution_count": null,
      "outputs": [
        {
          "output_type": "stream",
          "name": "stdout",
          "text": [
            "CPU times: user 8min 13s, sys: 11.3 s, total: 8min 24s\n",
            "Wall time: 4min 44s\n"
          ]
        }
      ]
    },
    {
      "cell_type": "code",
      "source": [
        "%%time\n",
        "# Calculando a precisão do XGBoost\n",
        "precision_xgb6 = precision_score(y_test, y_pred_xgb6)\n",
        "# Calculando a sensibilidade (recall) do XGBoost\n",
        "recall_xgb6 = recall_score(y_test, y_pred_xgb6)\n",
        "# Calculando a acurácia do XGBoost\n",
        "acc_xgb6 = cpu_accuracy_score(y_test, y_pred_xgb6)\n",
        "# Calculando as métricas do modelo (Acurácia, Matriz de confusão) do XGBoost\n",
        "print(\"Acurácia: \", acc_xgb6)\n",
        "print(\"Precisão: \", precision_xgb6)\n",
        "print(\"Sensibilidade: \", recall_xgb6)\n",
        "print(\"Matriz de confusão: \", cpu_confusion_matrix(y_test, y_pred_xgb6))"
      ],
      "metadata": {
        "id": "MBuGcqx_YUnc",
        "colab": {
          "base_uri": "https://localhost:8080/"
        },
        "outputId": "047800df-edd8-44bc-b601-8e1be0013558"
      },
      "execution_count": null,
      "outputs": [
        {
          "output_type": "stream",
          "name": "stdout",
          "text": [
            "Acurácia:  0.9994213362607844\n",
            "Precisão:  0.9953611663353215\n",
            "Sensibilidade:  0.5542435424354244\n",
            "Matriz de confusão:  [[2096948       7]\n",
            " [   1208    1502]]\n",
            "CPU times: user 1.44 s, sys: 43.2 ms, total: 1.48 s\n",
            "Wall time: 1.48 s\n"
          ]
        }
      ]
    },
    {
      "cell_type": "markdown",
      "source": [
        "A métrica de precisão melhorou, mas não foi a mesma observada com a variação de outros parâmetros. Para esta solução, não vamos escolher alterar este parâmetro para a sequência do projeto."
      ],
      "metadata": {
        "id": "-7uR82S_FGmF"
      }
    },
    {
      "cell_type": "markdown",
      "source": [
        "##### Considerações sobre a mudança de parâmetros no XGBoost"
      ],
      "metadata": {
        "id": "2Kf7lsAcFZt9"
      }
    },
    {
      "cell_type": "markdown",
      "source": [
        "Existem muitos parâmetros diferentes que podem ser ajustados no XGBoost, como por exemplo:\n",
        "\n",
        "* Aumentar o número de estimadores (n_estimators) para um valor mais alto, para que o modelo tenha mais oportunidades de aprender padrões nos dados.\n",
        "\n",
        "*Aumentar a profundidade máxima da árvore (max_depth) para permitir que o modelo capture relacionamentos mais complexos nos dados. No entanto, tenha cuidado para não aumentar muito esse parâmetro, pois pode levar a overfitting.\n",
        "\n",
        "* Diminuir a taxa de aprendizado (learning_rate) para um valor menor, para que o modelo ajuste os pesos mais lentamente e possa encontrar um mínimo global mais estável.\n",
        "\n",
        "* Ajustar o parâmetro colsample_bytree para um valor mais alto, para permitir que o modelo use mais colunas aleatórias para treinar cada árvore e reduza a correlação entre as árvores.\n",
        "\n",
        "* Experimentar valores diferentes para o parâmetro alpha, que controla a penalidade L1 (lasso) nas folhas das árvores. Isso pode ajudar a reduzir o overfitting, mas pode exigir um pouco de experimentação para encontrar o valor ideal.\n",
        "\n",
        "* justar os parâmetros em conjunto e realizar validação cruzada para avaliar o desempenho do modelo em um conjunto de dados de teste para evitar overfitting."
      ],
      "metadata": {
        "id": "x2iqM5xjZFXj"
      }
    },
    {
      "cell_type": "markdown",
      "source": [
        "#### Matriz de decisão XGBoost"
      ],
      "metadata": {
        "id": "hmGNR95IGtO8"
      }
    },
    {
      "cell_type": "code",
      "source": [
        "# Cria um dicionário a partir dos valores das métricas para cada ajuste de parâmetro no modelo que foram calculadas\n",
        "modelos_dic2 = {\n",
        "    \"Número estimadores (100 -> 150)\":{\n",
        "        \"Acurácia\": acc_xgb2.round(5),\n",
        "        \"Precision\": precision_xgb2.round(5),\n",
        "        \"Recall\": recall_xgb2.round(5),\n",
        "        \"Execução (s)\": round(tempo_total_xgb2, 5)\n",
        "    },\n",
        "    \"Taxa de aprendizado (0,1 -> 0,07)\":{\n",
        "        \"Acurácia\": acc_xgb3.round(5),\n",
        "        \"Precision\": precision_xgb3.round(5),\n",
        "        \"Recall\": recall_xgb3.round(5),\n",
        "        \"Execução (s)\": round(tempo_total_xgb3, 5)\n",
        "    },\n",
        "    \"Profundidade da árvore (5 -> 10)\":{\n",
        "        \"Acurácia\": acc_xgb4.round(5),\n",
        "        \"Precision\": precision_xgb4.round(5),\n",
        "        \"Recall\": recall_xgb4.round(5),\n",
        "        \"Execução (s)\": round(tempo_total_xgb4, 5)\n",
        "    },\n",
        "    \"Colunas aleatórias (0,3 -> 0,5)\":{\n",
        "        \"Acurácia\": acc_xgb5.round(5),\n",
        "        \"Precision\": precision_xgb5.round(5),\n",
        "        \"Recall\": recall_xgb5.round(5),\n",
        "        \"Execução (s)\": round(tempo_total_xgb5, 5)\n",
        "    },\n",
        "    \"Alpha (10 -> 12)\":{\n",
        "        \"Acurácia\": acc_xgb6.round(5),\n",
        "        \"Precision\": precision_xgb6.round(5),\n",
        "        \"Recall\": recall_xgb6.round(5),\n",
        "        \"Execução (s)\": round(tempo_total_xgb6, 5)\n",
        "    },    \n",
        "}"
      ],
      "metadata": {
        "id": "5Z_FYN2QGxyC"
      },
      "execution_count": null,
      "outputs": []
    },
    {
      "cell_type": "code",
      "source": [
        "# Transforma o dicionário em um Dataframe chamado \"modelos_sumario2\"\n",
        "modelos_sumario2 = pd.DataFrame(modelos_dic2)"
      ],
      "metadata": {
        "id": "RR_lKcacXWKi"
      },
      "execution_count": null,
      "outputs": []
    },
    {
      "cell_type": "code",
      "source": [
        "# Ordena os resultados pela métrica de precisão (definida como importante para a solução) e exibe a tabela\n",
        "resultado_modelos2 = modelos_sumario2.T.sort_values(by = 'Precision', ascending = False)\n",
        "resultado_modelos2"
      ],
      "metadata": {
        "colab": {
          "base_uri": "https://localhost:8080/",
          "height": 206
        },
        "id": "SCZTFpksXeup",
        "outputId": "459ba8d0-ff5e-4848-9fd2-0a4dc9f6dfdd"
      },
      "execution_count": null,
      "outputs": [
        {
          "output_type": "execute_result",
          "data": {
            "text/plain": [
              "                                   Acurácia  Precision  Recall  Execução (s)\n",
              "Taxa de aprendizado (0,1 -> 0,07)   0.99917    0.99792 0.35461     277.51221\n",
              "Profundidade da árvore (5 -> 10)    0.99943    0.99540 0.55941     291.26356\n",
              "Alpha (10 -> 12)                    0.99942    0.99536 0.55424     284.55322\n",
              "Número estimadores (100 -> 150)     0.99960    0.98753 0.70111     464.00377\n",
              "Colunas aleatórias (0,3 -> 0,5)     0.99962    0.97759 0.72435     287.82833"
            ],
            "text/html": [
              "\n",
              "  <div id=\"df-f1443440-7bb2-48db-9383-f8ed8948e532\">\n",
              "    <div class=\"colab-df-container\">\n",
              "      <div>\n",
              "<style scoped>\n",
              "    .dataframe tbody tr th:only-of-type {\n",
              "        vertical-align: middle;\n",
              "    }\n",
              "\n",
              "    .dataframe tbody tr th {\n",
              "        vertical-align: top;\n",
              "    }\n",
              "\n",
              "    .dataframe thead th {\n",
              "        text-align: right;\n",
              "    }\n",
              "</style>\n",
              "<table border=\"1\" class=\"dataframe\">\n",
              "  <thead>\n",
              "    <tr style=\"text-align: right;\">\n",
              "      <th></th>\n",
              "      <th>Acurácia</th>\n",
              "      <th>Precision</th>\n",
              "      <th>Recall</th>\n",
              "      <th>Execução (s)</th>\n",
              "    </tr>\n",
              "  </thead>\n",
              "  <tbody>\n",
              "    <tr>\n",
              "      <th>Taxa de aprendizado (0,1 -&gt; 0,07)</th>\n",
              "      <td>0.99917</td>\n",
              "      <td>0.99792</td>\n",
              "      <td>0.35461</td>\n",
              "      <td>277.51221</td>\n",
              "    </tr>\n",
              "    <tr>\n",
              "      <th>Profundidade da árvore (5 -&gt; 10)</th>\n",
              "      <td>0.99943</td>\n",
              "      <td>0.99540</td>\n",
              "      <td>0.55941</td>\n",
              "      <td>291.26356</td>\n",
              "    </tr>\n",
              "    <tr>\n",
              "      <th>Alpha (10 -&gt; 12)</th>\n",
              "      <td>0.99942</td>\n",
              "      <td>0.99536</td>\n",
              "      <td>0.55424</td>\n",
              "      <td>284.55322</td>\n",
              "    </tr>\n",
              "    <tr>\n",
              "      <th>Número estimadores (100 -&gt; 150)</th>\n",
              "      <td>0.99960</td>\n",
              "      <td>0.98753</td>\n",
              "      <td>0.70111</td>\n",
              "      <td>464.00377</td>\n",
              "    </tr>\n",
              "    <tr>\n",
              "      <th>Colunas aleatórias (0,3 -&gt; 0,5)</th>\n",
              "      <td>0.99962</td>\n",
              "      <td>0.97759</td>\n",
              "      <td>0.72435</td>\n",
              "      <td>287.82833</td>\n",
              "    </tr>\n",
              "  </tbody>\n",
              "</table>\n",
              "</div>\n",
              "      <button class=\"colab-df-convert\" onclick=\"convertToInteractive('df-f1443440-7bb2-48db-9383-f8ed8948e532')\"\n",
              "              title=\"Convert this dataframe to an interactive table.\"\n",
              "              style=\"display:none;\">\n",
              "        \n",
              "  <svg xmlns=\"http://www.w3.org/2000/svg\" height=\"24px\"viewBox=\"0 0 24 24\"\n",
              "       width=\"24px\">\n",
              "    <path d=\"M0 0h24v24H0V0z\" fill=\"none\"/>\n",
              "    <path d=\"M18.56 5.44l.94 2.06.94-2.06 2.06-.94-2.06-.94-.94-2.06-.94 2.06-2.06.94zm-11 1L8.5 8.5l.94-2.06 2.06-.94-2.06-.94L8.5 2.5l-.94 2.06-2.06.94zm10 10l.94 2.06.94-2.06 2.06-.94-2.06-.94-.94-2.06-.94 2.06-2.06.94z\"/><path d=\"M17.41 7.96l-1.37-1.37c-.4-.4-.92-.59-1.43-.59-.52 0-1.04.2-1.43.59L10.3 9.45l-7.72 7.72c-.78.78-.78 2.05 0 2.83L4 21.41c.39.39.9.59 1.41.59.51 0 1.02-.2 1.41-.59l7.78-7.78 2.81-2.81c.8-.78.8-2.07 0-2.86zM5.41 20L4 18.59l7.72-7.72 1.47 1.35L5.41 20z\"/>\n",
              "  </svg>\n",
              "      </button>\n",
              "      \n",
              "  <style>\n",
              "    .colab-df-container {\n",
              "      display:flex;\n",
              "      flex-wrap:wrap;\n",
              "      gap: 12px;\n",
              "    }\n",
              "\n",
              "    .colab-df-convert {\n",
              "      background-color: #E8F0FE;\n",
              "      border: none;\n",
              "      border-radius: 50%;\n",
              "      cursor: pointer;\n",
              "      display: none;\n",
              "      fill: #1967D2;\n",
              "      height: 32px;\n",
              "      padding: 0 0 0 0;\n",
              "      width: 32px;\n",
              "    }\n",
              "\n",
              "    .colab-df-convert:hover {\n",
              "      background-color: #E2EBFA;\n",
              "      box-shadow: 0px 1px 2px rgba(60, 64, 67, 0.3), 0px 1px 3px 1px rgba(60, 64, 67, 0.15);\n",
              "      fill: #174EA6;\n",
              "    }\n",
              "\n",
              "    [theme=dark] .colab-df-convert {\n",
              "      background-color: #3B4455;\n",
              "      fill: #D2E3FC;\n",
              "    }\n",
              "\n",
              "    [theme=dark] .colab-df-convert:hover {\n",
              "      background-color: #434B5C;\n",
              "      box-shadow: 0px 1px 3px 1px rgba(0, 0, 0, 0.15);\n",
              "      filter: drop-shadow(0px 1px 2px rgba(0, 0, 0, 0.3));\n",
              "      fill: #FFFFFF;\n",
              "    }\n",
              "  </style>\n",
              "\n",
              "      <script>\n",
              "        const buttonEl =\n",
              "          document.querySelector('#df-f1443440-7bb2-48db-9383-f8ed8948e532 button.colab-df-convert');\n",
              "        buttonEl.style.display =\n",
              "          google.colab.kernel.accessAllowed ? 'block' : 'none';\n",
              "\n",
              "        async function convertToInteractive(key) {\n",
              "          const element = document.querySelector('#df-f1443440-7bb2-48db-9383-f8ed8948e532');\n",
              "          const dataTable =\n",
              "            await google.colab.kernel.invokeFunction('convertToInteractive',\n",
              "                                                     [key], {});\n",
              "          if (!dataTable) return;\n",
              "\n",
              "          const docLinkHtml = 'Like what you see? Visit the ' +\n",
              "            '<a target=\"_blank\" href=https://colab.research.google.com/notebooks/data_table.ipynb>data table notebook</a>'\n",
              "            + ' to learn more about interactive tables.';\n",
              "          element.innerHTML = '';\n",
              "          dataTable['output_type'] = 'display_data';\n",
              "          await google.colab.output.renderOutput(dataTable, element);\n",
              "          const docLink = document.createElement('div');\n",
              "          docLink.innerHTML = docLinkHtml;\n",
              "          element.appendChild(docLink);\n",
              "        }\n",
              "      </script>\n",
              "    </div>\n",
              "  </div>\n",
              "  "
            ]
          },
          "metadata": {},
          "execution_count": 58
        }
      ]
    },
    {
      "cell_type": "markdown",
      "source": [
        "Os três melhores resultados de precisão foram alterando os parâmetros de taxa de aprendizado, profundidade da árvore e alpha. Para este trabalho, vamos manter essas 3 alterações, que obtiveram precisão maior que 99% e vamos seguir para encontrar uma forma de diminuir o tempo de execução (parâmetro também importante) através de computação paralela e uso da GPU."
      ],
      "metadata": {
        "id": "XVbKeh2nJDr0"
      }
    },
    {
      "cell_type": "markdown",
      "source": [
        "#### XGBoost com computação paralela e CPU para melhorar tempo de execução"
      ],
      "metadata": {
        "id": "zVyL9i8kLOvU"
      }
    },
    {
      "cell_type": "markdown",
      "source": [
        "##### Computação paralela"
      ],
      "metadata": {
        "id": "Hx7atnRYMYZy"
      }
    },
    {
      "cell_type": "markdown",
      "source": [
        "Para testar um parâmetro relacionado a computação paralela, vamos variar o número de 'jobs' (trabalhos) que vão ser executados em paralelo."
      ],
      "metadata": {
        "id": "xW9uE-_lN0fr"
      }
    },
    {
      "cell_type": "markdown",
      "source": [
        "###### n_jobs = 4"
      ],
      "metadata": {
        "id": "1r0N_JP9KM1T"
      }
    },
    {
      "cell_type": "code",
      "source": [
        "%%time\n",
        "# Parametrização do XGBoost\n",
        "params = {'learning_rate': 0.7,\n",
        "          'colsample_bytree' : 0.3,\n",
        "          'max_depth': 10,\n",
        "          'objective': 'binary:logistic',\n",
        "          'alpha' : 12,\n",
        "          'n_estimators': 100}\n",
        "# Iniciando contagem do tempo do modelo\n",
        "tempo_inic_xgb7 = time.time()\n",
        "# Treinamento do modelo XGBoost com computação paralela (define 'n_jobs' como igual a 4)\n",
        "xgb_trained_model7 = XGBClassifier(**params, n_jobs=4)\n",
        "xgb_trained_model7.fit(X_train, y_train, eval_set=[(X_train, y_train), (X_test, y_test)],\n",
        "                      eval_metric='auc', verbose=False)\n",
        "# Predições\n",
        "y_pred_xgb7 = xgb_trained_model7.predict(X_test) \n",
        "# Finalizando contagem do tempo do modelo\n",
        "tempo_final_xgb7 = time.time()\n",
        "# Calculo do tempo de de execução do XGBoost\n",
        "tempo_total_xgb7 = tempo_final_xgb7 - tempo_inic_xgb7"
      ],
      "metadata": {
        "id": "8PuCx-ALOcyy",
        "colab": {
          "base_uri": "https://localhost:8080/"
        },
        "outputId": "22c77a30-8ab8-41ae-d96c-510520d4b71c"
      },
      "execution_count": null,
      "outputs": [
        {
          "output_type": "stream",
          "name": "stdout",
          "text": [
            "CPU times: user 9min 8s, sys: 12.8 s, total: 9min 21s\n",
            "Wall time: 5min 40s\n"
          ]
        }
      ]
    },
    {
      "cell_type": "code",
      "source": [
        "%%time\n",
        "# Calculando a precisão do XGBoost\n",
        "precision_xgb7 = precision_score(y_test, y_pred_xgb7)\n",
        "# Calculando a sensibilidade (recall) do XGBoost\n",
        "recall_xgb7 = recall_score(y_test, y_pred_xgb7)\n",
        "# Calculando a acurácia do XGBoost\n",
        "acc_xgb7 = cpu_accuracy_score(y_test, y_pred_xgb7)\n",
        "# Calculando as métricas do modelo (Acurácia, Matriz de confusão) do XGBoost\n",
        "print(\"Acurácia: \", acc_xgb7)\n",
        "print(\"Precisão: \", precision_xgb7)\n",
        "print(\"Sensibilidade: \", recall_xgb7)\n",
        "print(\"Matriz de confusão: \", cpu_confusion_matrix(y_test, y_pred_xgb7))"
      ],
      "metadata": {
        "id": "qXAdAy3sOcqq",
        "colab": {
          "base_uri": "https://localhost:8080/"
        },
        "outputId": "a6425409-cb72-476c-dffd-7147646cb948"
      },
      "execution_count": null,
      "outputs": [
        {
          "output_type": "stream",
          "name": "stdout",
          "text": [
            "Acurácia:  0.9996399425622658\n",
            "Precisão:  0.962594696969697\n",
            "Sensibilidade:  0.7501845018450185\n",
            "Matriz de confusão:  [[2096876      79]\n",
            " [    677    2033]]\n",
            "CPU times: user 2.05 s, sys: 49.9 ms, total: 2.1 s\n",
            "Wall time: 2.15 s\n"
          ]
        }
      ]
    },
    {
      "cell_type": "markdown",
      "source": [
        "###### n_jobs = 8"
      ],
      "metadata": {
        "id": "dtY-T-UzOgwL"
      }
    },
    {
      "cell_type": "code",
      "source": [
        "%%time\n",
        "# Parametrização do XGBoost\n",
        "params = {'learning_rate': 0.07,\n",
        "          'colsample_bytree' : 0.3,\n",
        "          'max_depth': 10,\n",
        "          'objective': 'binary:logistic',\n",
        "          'alpha' : 12,\n",
        "          'n_estimators': 100}\n",
        "# Iniciando contagem do tempo do modelo\n",
        "tempo_inic_xgb8 = time.time()\n",
        "# Treinamento do modelo XGBoost com computação paralela (define 'n_jobs' como igual a 8)\n",
        "xgb_trained_model8 = XGBClassifier(**params, n_jobs=8)\n",
        "xgb_trained_model8.fit(X_train, y_train, eval_set=[(X_train, y_train), (X_test, y_test)],\n",
        "                      eval_metric='auc', verbose=False)\n",
        "# Predições\n",
        "y_pred_xgb8 = xgb_trained_model8.predict(X_test) \n",
        "# Finalizando contagem do tempo do modelo\n",
        "tempo_final_xgb8 = time.time()\n",
        "# Calculo do tempo de de execução do XGBoost\n",
        "tempo_total_xgb8 = tempo_final_xgb8 - tempo_inic_xgb8"
      ],
      "metadata": {
        "id": "jA7zFlsELQQr",
        "colab": {
          "base_uri": "https://localhost:8080/"
        },
        "outputId": "b10a958b-f5ff-4c2e-a708-c5c2a16d820b"
      },
      "execution_count": null,
      "outputs": [
        {
          "output_type": "stream",
          "name": "stdout",
          "text": [
            "CPU times: user 7min 51s, sys: 12 s, total: 8min 3s\n",
            "Wall time: 4min 39s\n"
          ]
        }
      ]
    },
    {
      "cell_type": "code",
      "source": [
        "%%time\n",
        "# Calculando a precisão do XGBoost\n",
        "precision_xgb8 = precision_score(y_test, y_pred_xgb8)\n",
        "# Calculando a sensibilidade (recall) do XGBoost\n",
        "recall_xgb8 = recall_score(y_test, y_pred_xgb8)\n",
        "# Calculando a acurácia do XGBoost\n",
        "acc_xgb8 = cpu_accuracy_score(y_test, y_pred_xgb8)\n",
        "# Calculando as métricas do modelo (Acurácia, Matriz de confusão) do XGBoost\n",
        "print(\"Acurácia: \", acc_xgb8)\n",
        "print(\"Precisão: \", precision_xgb8)\n",
        "print(\"Sensibilidade: \", recall_xgb8)\n",
        "print(\"Matriz de confusão: \", cpu_confusion_matrix(y_test, y_pred_xgb8))"
      ],
      "metadata": {
        "id": "F4KRIyPmLVMT",
        "colab": {
          "base_uri": "https://localhost:8080/"
        },
        "outputId": "9f22b53d-3fad-4afc-ad55-425709242357"
      },
      "execution_count": null,
      "outputs": [
        {
          "output_type": "stream",
          "name": "stdout",
          "text": [
            "Acurácia:  0.9991751065050853\n",
            "Precisão:  0.9979633401221996\n",
            "Sensibilidade:  0.36162361623616235\n",
            "Matriz de confusão:  [[2096953       2]\n",
            " [   1730     980]]\n",
            "CPU times: user 1.51 s, sys: 58.9 ms, total: 1.56 s\n",
            "Wall time: 1.55 s\n"
          ]
        }
      ]
    },
    {
      "cell_type": "markdown",
      "source": [
        "###### n_jobs = 12"
      ],
      "metadata": {
        "id": "yeMvGTmsOC5r"
      }
    },
    {
      "cell_type": "code",
      "source": [
        "%%time\n",
        "# Parametrização do XGBoost\n",
        "params = {'learning_rate': 0.07,\n",
        "          'colsample_bytree' : 0.3,\n",
        "          'max_depth': 10,\n",
        "          'objective': 'binary:logistic',\n",
        "          'alpha' : 12,\n",
        "          'n_estimators': 100}\n",
        "# Iniciando contagem do tempo do modelo\n",
        "tempo_inic_xgb9 = time.time()\n",
        "# Treinamento do modelo XGBoost com computação paralela (define 'n_jobs' como igual a 12)\n",
        "xgb_trained_model9 = XGBClassifier(**params, n_jobs=12)\n",
        "xgb_trained_model9.fit(X_train, y_train, eval_set=[(X_train, y_train), (X_test, y_test)],\n",
        "                      eval_metric='auc', verbose=False)\n",
        "# Predições\n",
        "y_pred_xgb9 = xgb_trained_model9.predict(X_test) \n",
        "# Finalizando contagem do tempo do modelo\n",
        "tempo_final_xgb9 = time.time()\n",
        "# Calculo do tempo de de execução do XGBoost\n",
        "tempo_total_xgb9 = tempo_final_xgb9 - tempo_inic_xgb9"
      ],
      "metadata": {
        "id": "CbeJJroOOEkU",
        "colab": {
          "base_uri": "https://localhost:8080/"
        },
        "outputId": "f784c21d-6c6d-4a67-bfec-d99d7d3144d1"
      },
      "execution_count": null,
      "outputs": [
        {
          "output_type": "stream",
          "name": "stdout",
          "text": [
            "CPU times: user 7min 57s, sys: 12.4 s, total: 8min 10s\n",
            "Wall time: 4min 44s\n"
          ]
        }
      ]
    },
    {
      "cell_type": "code",
      "source": [
        "%%time\n",
        "# Calculando a precisão do XGBoost\n",
        "precision_xgb9 = precision_score(y_test, y_pred_xgb9)\n",
        "# Calculando a sensibilidade (recall) do XGBoost\n",
        "recall_xgb9 = recall_score(y_test, y_pred_xgb9)\n",
        "# Calculando a acurácia do XGBoost\n",
        "acc_xgb9 = cpu_accuracy_score(y_test, y_pred_xgb9)\n",
        "# Calculando as métricas do modelo (Acurácia, Matriz de confusão) do XGBoost\n",
        "print(\"Acurácia: \", acc_xgb9)\n",
        "print(\"Precisão: \", precision_xgb9)\n",
        "print(\"Sensibilidade: \", recall_xgb9)\n",
        "print(\"Matriz de confusão: \", cpu_confusion_matrix(y_test, y_pred_xgb9))"
      ],
      "metadata": {
        "id": "tu8gV-0gOEZS",
        "colab": {
          "base_uri": "https://localhost:8080/"
        },
        "outputId": "06ebb0c2-6be8-470d-9fcd-ab053c06b4d7"
      },
      "execution_count": null,
      "outputs": [
        {
          "output_type": "stream",
          "name": "stdout",
          "text": [
            "Acurácia:  0.9991751065050853\n",
            "Precisão:  0.9979633401221996\n",
            "Sensibilidade:  0.36162361623616235\n",
            "Matriz de confusão:  [[2096953       2]\n",
            " [   1730     980]]\n",
            "CPU times: user 2.09 s, sys: 64.6 ms, total: 2.15 s\n",
            "Wall time: 2.58 s\n"
          ]
        }
      ]
    },
    {
      "cell_type": "markdown",
      "source": [
        "###### Matriz de decisão"
      ],
      "metadata": {
        "id": "BrFmcw06eyPW"
      }
    },
    {
      "cell_type": "code",
      "source": [
        "# Cria um dicionário a partir dos valores das métricas de cada modelo com paralelismo testado\n",
        "modelos_dic3 = {\n",
        "    \"n_jobs=4\":{\n",
        "        \"Acurácia\": acc_xgb7.round(5),\n",
        "        \"Precision\": precision_xgb7.round(5),\n",
        "        \"Recall\": recall_xgb7.round(5),\n",
        "        \"Execução (s)\": round(tempo_total_xgb7, 5)\n",
        "    },\n",
        "    \"n_jobs=8\":{\n",
        "        \"Acurácia\": acc_xgb8.round(5),\n",
        "        \"Precision\": precision_xgb8.round(5),\n",
        "        \"Recall\": recall_xgb8.round(5),\n",
        "        \"Execução (s)\": round(tempo_total_xgb8, 5)\n",
        "    },\n",
        "    \"n_jobs=12\":{\n",
        "        \"Acurácia\": acc_xgb9.round(5),\n",
        "        \"Precision\": precision_xgb9.round(5),\n",
        "        \"Recall\": recall_xgb9.round(5),\n",
        "        \"Execução (s)\": round(tempo_total_xgb9, 5)\n",
        "    }\n",
        "}"
      ],
      "metadata": {
        "id": "Px-3o8kRf5ed"
      },
      "execution_count": null,
      "outputs": []
    },
    {
      "cell_type": "code",
      "source": [
        "# Transforma o dicionário em um Dataframe chamado \"modelos_sumario3\"\n",
        "modelos_sumario3 = pd.DataFrame(modelos_dic3)\n",
        "# Ordena os resultados pela métrica de precisão (definida como importante para a solução) e exibe a tabela\n",
        "resultado_modelos3 = modelos_sumario3.T.sort_values(by = 'Precision', ascending = False)\n",
        "resultado_modelos3\n"
      ],
      "metadata": {
        "colab": {
          "base_uri": "https://localhost:8080/",
          "height": 143
        },
        "id": "1ujHC3gkgVCF",
        "outputId": "9ea5f8f4-3c76-43e8-f464-e3c5945bc43a"
      },
      "execution_count": null,
      "outputs": [
        {
          "output_type": "execute_result",
          "data": {
            "text/plain": [
              "           Acurácia  Precision  Recall  Execução (s)\n",
              "n_jobs=8    0.99918    0.99796 0.36162     279.20448\n",
              "n_jobs=12   0.99918    0.99796 0.36162     284.98633\n",
              "n_jobs=4    0.99964    0.96259 0.75018     340.40464"
            ],
            "text/html": [
              "\n",
              "  <div id=\"df-2b37c551-1861-42dd-8af0-3573415aad73\">\n",
              "    <div class=\"colab-df-container\">\n",
              "      <div>\n",
              "<style scoped>\n",
              "    .dataframe tbody tr th:only-of-type {\n",
              "        vertical-align: middle;\n",
              "    }\n",
              "\n",
              "    .dataframe tbody tr th {\n",
              "        vertical-align: top;\n",
              "    }\n",
              "\n",
              "    .dataframe thead th {\n",
              "        text-align: right;\n",
              "    }\n",
              "</style>\n",
              "<table border=\"1\" class=\"dataframe\">\n",
              "  <thead>\n",
              "    <tr style=\"text-align: right;\">\n",
              "      <th></th>\n",
              "      <th>Acurácia</th>\n",
              "      <th>Precision</th>\n",
              "      <th>Recall</th>\n",
              "      <th>Execução (s)</th>\n",
              "    </tr>\n",
              "  </thead>\n",
              "  <tbody>\n",
              "    <tr>\n",
              "      <th>n_jobs=8</th>\n",
              "      <td>0.99918</td>\n",
              "      <td>0.99796</td>\n",
              "      <td>0.36162</td>\n",
              "      <td>279.20448</td>\n",
              "    </tr>\n",
              "    <tr>\n",
              "      <th>n_jobs=12</th>\n",
              "      <td>0.99918</td>\n",
              "      <td>0.99796</td>\n",
              "      <td>0.36162</td>\n",
              "      <td>284.98633</td>\n",
              "    </tr>\n",
              "    <tr>\n",
              "      <th>n_jobs=4</th>\n",
              "      <td>0.99964</td>\n",
              "      <td>0.96259</td>\n",
              "      <td>0.75018</td>\n",
              "      <td>340.40464</td>\n",
              "    </tr>\n",
              "  </tbody>\n",
              "</table>\n",
              "</div>\n",
              "      <button class=\"colab-df-convert\" onclick=\"convertToInteractive('df-2b37c551-1861-42dd-8af0-3573415aad73')\"\n",
              "              title=\"Convert this dataframe to an interactive table.\"\n",
              "              style=\"display:none;\">\n",
              "        \n",
              "  <svg xmlns=\"http://www.w3.org/2000/svg\" height=\"24px\"viewBox=\"0 0 24 24\"\n",
              "       width=\"24px\">\n",
              "    <path d=\"M0 0h24v24H0V0z\" fill=\"none\"/>\n",
              "    <path d=\"M18.56 5.44l.94 2.06.94-2.06 2.06-.94-2.06-.94-.94-2.06-.94 2.06-2.06.94zm-11 1L8.5 8.5l.94-2.06 2.06-.94-2.06-.94L8.5 2.5l-.94 2.06-2.06.94zm10 10l.94 2.06.94-2.06 2.06-.94-2.06-.94-.94-2.06-.94 2.06-2.06.94z\"/><path d=\"M17.41 7.96l-1.37-1.37c-.4-.4-.92-.59-1.43-.59-.52 0-1.04.2-1.43.59L10.3 9.45l-7.72 7.72c-.78.78-.78 2.05 0 2.83L4 21.41c.39.39.9.59 1.41.59.51 0 1.02-.2 1.41-.59l7.78-7.78 2.81-2.81c.8-.78.8-2.07 0-2.86zM5.41 20L4 18.59l7.72-7.72 1.47 1.35L5.41 20z\"/>\n",
              "  </svg>\n",
              "      </button>\n",
              "      \n",
              "  <style>\n",
              "    .colab-df-container {\n",
              "      display:flex;\n",
              "      flex-wrap:wrap;\n",
              "      gap: 12px;\n",
              "    }\n",
              "\n",
              "    .colab-df-convert {\n",
              "      background-color: #E8F0FE;\n",
              "      border: none;\n",
              "      border-radius: 50%;\n",
              "      cursor: pointer;\n",
              "      display: none;\n",
              "      fill: #1967D2;\n",
              "      height: 32px;\n",
              "      padding: 0 0 0 0;\n",
              "      width: 32px;\n",
              "    }\n",
              "\n",
              "    .colab-df-convert:hover {\n",
              "      background-color: #E2EBFA;\n",
              "      box-shadow: 0px 1px 2px rgba(60, 64, 67, 0.3), 0px 1px 3px 1px rgba(60, 64, 67, 0.15);\n",
              "      fill: #174EA6;\n",
              "    }\n",
              "\n",
              "    [theme=dark] .colab-df-convert {\n",
              "      background-color: #3B4455;\n",
              "      fill: #D2E3FC;\n",
              "    }\n",
              "\n",
              "    [theme=dark] .colab-df-convert:hover {\n",
              "      background-color: #434B5C;\n",
              "      box-shadow: 0px 1px 3px 1px rgba(0, 0, 0, 0.15);\n",
              "      filter: drop-shadow(0px 1px 2px rgba(0, 0, 0, 0.3));\n",
              "      fill: #FFFFFF;\n",
              "    }\n",
              "  </style>\n",
              "\n",
              "      <script>\n",
              "        const buttonEl =\n",
              "          document.querySelector('#df-2b37c551-1861-42dd-8af0-3573415aad73 button.colab-df-convert');\n",
              "        buttonEl.style.display =\n",
              "          google.colab.kernel.accessAllowed ? 'block' : 'none';\n",
              "\n",
              "        async function convertToInteractive(key) {\n",
              "          const element = document.querySelector('#df-2b37c551-1861-42dd-8af0-3573415aad73');\n",
              "          const dataTable =\n",
              "            await google.colab.kernel.invokeFunction('convertToInteractive',\n",
              "                                                     [key], {});\n",
              "          if (!dataTable) return;\n",
              "\n",
              "          const docLinkHtml = 'Like what you see? Visit the ' +\n",
              "            '<a target=\"_blank\" href=https://colab.research.google.com/notebooks/data_table.ipynb>data table notebook</a>'\n",
              "            + ' to learn more about interactive tables.';\n",
              "          element.innerHTML = '';\n",
              "          dataTable['output_type'] = 'display_data';\n",
              "          await google.colab.output.renderOutput(dataTable, element);\n",
              "          const docLink = document.createElement('div');\n",
              "          docLink.innerHTML = docLinkHtml;\n",
              "          element.appendChild(docLink);\n",
              "        }\n",
              "      </script>\n",
              "    </div>\n",
              "  </div>\n",
              "  "
            ]
          },
          "metadata": {},
          "execution_count": 70
        }
      ]
    },
    {
      "cell_type": "markdown",
      "source": [
        "O número de 'jobs' (trabalhos) que obteve melhor performance, e também melhor latência, foi igual a 8, sendo este o valor que vamos utilizar na configuração com a GPU."
      ],
      "metadata": {
        "id": "kkjsGInOK5_i"
      }
    },
    {
      "cell_type": "markdown",
      "source": [
        "##### Utilizando uma GPU"
      ],
      "metadata": {
        "id": "ULWXdlq6Ma3K"
      }
    },
    {
      "cell_type": "code",
      "source": [
        "%%time\n",
        "# Parametrização do XGBoost\n",
        "params = {'learning_rate': 0.07,\n",
        "          'colsample_bytree' : 0.3,\n",
        "          'max_depth': 10,\n",
        "          'objective': 'binary:logistic',\n",
        "          'alpha' : 12,\n",
        "          'n_estimators': 100,\n",
        "          'tree_method': 'gpu_hist',\n",
        "          'predictor': 'gpu_predictor'\n",
        "          }\n",
        "# Iniciando contagem do tempo do modelo\n",
        "tempo_inic_xgb10 = time.time()\n",
        "# Treinamento do modelo XGBoost com computação paralela\n",
        "xgb_trained_model10 = XGBClassifier(**params, n_jobs=8)\n",
        "xgb_trained_model10.fit(X_train, y_train, eval_set=[(X_train, y_train), (X_test, y_test)],\n",
        "                      eval_metric='auc', verbose=False)\n",
        "# Predições\n",
        "y_pred_xgb10 = xgb_trained_model10.predict(X_test) \n",
        "# Finalizando contagem do tempo do modelo\n",
        "tempo_final_xgb10 = time.time()\n",
        "# Calculo do tempo de de execução do XGBoost\n",
        "tempo_total_xgb10 = tempo_final_xgb10 - tempo_inic_xgb10"
      ],
      "metadata": {
        "id": "SwVAiwL_MdPy",
        "colab": {
          "base_uri": "https://localhost:8080/"
        },
        "outputId": "077354f4-a150-4f41-8725-e0fa6f18168e"
      },
      "execution_count": null,
      "outputs": [
        {
          "output_type": "stream",
          "name": "stdout",
          "text": [
            "CPU times: user 12.6 s, sys: 260 ms, total: 12.9 s\n",
            "Wall time: 9.12 s\n"
          ]
        }
      ]
    },
    {
      "cell_type": "code",
      "source": [
        "%%time\n",
        "# Calculando a precisão do XGBoost\n",
        "precision_xgb10 = precision_score(y_test, y_pred_xgb10)\n",
        "# Calculando a sensibilidade (recall) do XGBoost\n",
        "recall_xgb10 = recall_score(y_test, y_pred_xgb10)\n",
        "# Calculando a acurácia do XGBoost\n",
        "acc_xgb10 = cpu_accuracy_score(y_test, y_pred_xgb10)\n",
        "# Calculando as métricas do modelo (Acurácia, Matriz de confusão) do XGBoost\n",
        "print(\"Acurácia: \", acc_xgb10)\n",
        "print(\"Precisão: \", precision_xgb10)\n",
        "print(\"Sensibilidade: \", recall_xgb10)\n",
        "print(\"Matriz de confusão: \", cpu_confusion_matrix(y_test, y_pred_xgb10))  "
      ],
      "metadata": {
        "colab": {
          "base_uri": "https://localhost:8080/"
        },
        "id": "sTLenHeXObfl",
        "outputId": "5704cc05-c84e-42bf-8810-d1ebe8573693"
      },
      "execution_count": null,
      "outputs": [
        {
          "output_type": "stream",
          "name": "stdout",
          "text": [
            "Acurácia:  0.9991812979689617\n",
            "Precisão:  0.9979899497487437\n",
            "Sensibilidade:  0.36642066420664204\n",
            "Matriz de confusão:  [[2096953       2]\n",
            " [   1717     993]]\n",
            "CPU times: user 1.8 s, sys: 92.7 ms, total: 1.89 s\n",
            "Wall time: 1.91 s\n"
          ]
        }
      ]
    },
    {
      "cell_type": "markdown",
      "source": [
        "#### Resultados finais do modelo"
      ],
      "metadata": {
        "id": "TfaZB9Iy3p7c"
      }
    },
    {
      "cell_type": "markdown",
      "source": [
        "Os resultados finais das métricas de precisão e latência da solução foram:\n",
        "\n",
        "* Modelo: XGBoost \n",
        "* Precisão: 99,80%\n",
        "* Latência: 9,12 segundos\n",
        "\n",
        "Lembrando que partimos de um modelo 'base line' com as seguintes características:\n",
        "\n",
        "* Modelo: Regressão Logística\n",
        "* Precisão: 87,82 %\n",
        "* Latência: 43,71 segundos\n",
        "\n",
        "E antes de trabalharmos para melhorar o XGBoost, tinhamos um modelo inicial com as seguintes características:\n",
        "\n",
        "* Modelo: XGBoost \n",
        "* Precisão: 99,54 %\n",
        "* Latência: 481,85 segundos\n"
      ],
      "metadata": {
        "id": "xok8I5pJOP2h"
      }
    },
    {
      "cell_type": "markdown",
      "source": [
        "##### Curva AUC"
      ],
      "metadata": {
        "id": "tyqyWfwDOMuh"
      }
    },
    {
      "cell_type": "code",
      "source": [
        "# A curva AUC também é uma métrica importante na avaliação no modelo, vamos calculá-la para o modelo final escolhido\n",
        "%%time\n",
        "# Cria a figura a ser exibida\n",
        "fig, ax = plt.subplots()\n",
        "# Chama a função \"evals_result\" no modelo XGBoost treinado\n",
        "# Essa função retorna as curvas de aprendizagem para a métrica de avaliação, tanto para o conjunto de dados de treinamento quanto para o conjunto de dados de teste.\n",
        "evals_result = xgb_trained_model10.evals_result()\n",
        "x_axis = range(0, len(evals_result['validation_0']['auc']))\n",
        "# Cria um gráfico de linha usando as curvas de aprendizagem retornadas pela função \"evals_result\"\n",
        "ax.plot(x_axis, evals_result['validation_0']['auc'], label='Train')\n",
        "ax.plot(x_axis, evals_result['validation_1']['auc'], label='Test')\n",
        "# Adiciona rótulos aos eixos x e y do gráfico\n",
        "ax.legend()\n",
        "plt.ylabel('AUC')\n",
        "plt.title('XGBoost AUC')\n",
        "plt.show()"
      ],
      "metadata": {
        "id": "54vKA17q3zm8",
        "colab": {
          "base_uri": "https://localhost:8080/",
          "height": 316
        },
        "outputId": "dc67ff16-d39e-40fe-aa5f-6ec2c05a16b9"
      },
      "execution_count": null,
      "outputs": [
        {
          "output_type": "display_data",
          "data": {
            "text/plain": [
              "<Figure size 432x288 with 1 Axes>"
            ],
            "image/png": "[encoded data removed]"
          },
          "metadata": {
            "needs_background": "light"
          }
        },
        {
          "output_type": "stream",
          "name": "stdout",
          "text": [
            "CPU times: user 210 ms, sys: 90.9 ms, total: 301 ms\n",
            "Wall time: 202 ms\n"
          ]
        }
      ]
    },
    {
      "cell_type": "markdown",
      "source": [
        "## Conclusão"
      ],
      "metadata": {
        "id": "rYwLIYFLr9HQ"
      }
    },
    {
      "cell_type": "markdown",
      "source": [
        "A solução desenvolvida, utilizando um modelo de XGBoost com computação paralela e utilização de GPU atingiu bons níveis nas métricas de objetivo: precisão (99,80%) e latência (9,12 segundos). Todo desenvolvimento do trabalho, mostrou tanto a importância do entendimento do problema, para saber em qual ponto estamos da solução e quais métricas são importantes neste momento, como também a forma de atingir esses resultados, partindo de um modelo 'base line' mais simples.\n",
        "\n",
        "Este trabalho serve como base de estudo e aprendizado para projetos de Ciência de Dados, que podem continuar ajustando este modelo para encotnrar melhores resultados. Uma sugestão de trabalho futuro é aplicar \"tuning de parâmetros\", \"cross validation\" e também \"feature selection\", que podem melhorar ainda mais os resultados obtidos."
      ],
      "metadata": {
        "id": "LICCNjbQNcCt"
      }
    }
  ]
}